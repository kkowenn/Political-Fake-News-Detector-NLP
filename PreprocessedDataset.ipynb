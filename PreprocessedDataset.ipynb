{
 "cells": [
  {
   "cell_type": "code",
   "execution_count": 18,
   "id": "ad6ae91b",
   "metadata": {},
   "outputs": [],
   "source": [
    "import string\n",
    "import re \n",
    "import nltk #NLP \n",
    "from nltk.tokenize import word_tokenize #Tokenization\n",
    "from nltk.corpus import stopwords #Remove common words\n",
    "import numpy as np #math\n",
    "import pandas as pd #Read the dataset\n",
    "from googletrans import Translator #Google translator API"
   ]
  },
  {
   "cell_type": "code",
   "execution_count": 19,
   "id": "f9126701",
   "metadata": {},
   "outputs": [],
   "source": [
    "#DATA PREPROCESSING STEP"
   ]
  },
  {
   "cell_type": "code",
   "execution_count": 20,
   "id": "d5bd5411",
   "metadata": {},
   "outputs": [
    {
     "data": {
      "text/html": [
       "<div>\n",
       "<style scoped>\n",
       "    .dataframe tbody tr th:only-of-type {\n",
       "        vertical-align: middle;\n",
       "    }\n",
       "\n",
       "    .dataframe tbody tr th {\n",
       "        vertical-align: top;\n",
       "    }\n",
       "\n",
       "    .dataframe thead th {\n",
       "        text-align: right;\n",
       "    }\n",
       "</style>\n",
       "<table border=\"1\" class=\"dataframe\">\n",
       "  <thead>\n",
       "    <tr style=\"text-align: right;\">\n",
       "      <th></th>\n",
       "      <th>Unnamed: 0</th>\n",
       "      <th>title</th>\n",
       "      <th>text</th>\n",
       "      <th>label</th>\n",
       "    </tr>\n",
       "  </thead>\n",
       "  <tbody>\n",
       "    <tr>\n",
       "      <th>0</th>\n",
       "      <td>0</td>\n",
       "      <td>LAW ENFORCEMENT ON HIGH ALERT Following Threat...</td>\n",
       "      <td>No comment is expected from Barack Obama Membe...</td>\n",
       "      <td>1</td>\n",
       "    </tr>\n",
       "    <tr>\n",
       "      <th>1</th>\n",
       "      <td>1</td>\n",
       "      <td>NaN</td>\n",
       "      <td>Did they post their votes for Hillary already?</td>\n",
       "      <td>1</td>\n",
       "    </tr>\n",
       "    <tr>\n",
       "      <th>2</th>\n",
       "      <td>2</td>\n",
       "      <td>UNBELIEVABLE! OBAMA’S ATTORNEY GENERAL SAYS MO...</td>\n",
       "      <td>Now, most of the demonstrators gathered last ...</td>\n",
       "      <td>1</td>\n",
       "    </tr>\n",
       "    <tr>\n",
       "      <th>3</th>\n",
       "      <td>3</td>\n",
       "      <td>Bobby Jindal, raised Hindu, uses story of Chri...</td>\n",
       "      <td>A dozen politically active pastors came here f...</td>\n",
       "      <td>0</td>\n",
       "    </tr>\n",
       "    <tr>\n",
       "      <th>4</th>\n",
       "      <td>4</td>\n",
       "      <td>SATAN 2: Russia unvelis an image of its terrif...</td>\n",
       "      <td>The RS-28 Sarmat missile, dubbed Satan 2, will...</td>\n",
       "      <td>1</td>\n",
       "    </tr>\n",
       "  </tbody>\n",
       "</table>\n",
       "</div>"
      ],
      "text/plain": [
       "   Unnamed: 0                                              title  \\\n",
       "0           0  LAW ENFORCEMENT ON HIGH ALERT Following Threat...   \n",
       "1           1                                                NaN   \n",
       "2           2  UNBELIEVABLE! OBAMA’S ATTORNEY GENERAL SAYS MO...   \n",
       "3           3  Bobby Jindal, raised Hindu, uses story of Chri...   \n",
       "4           4  SATAN 2: Russia unvelis an image of its terrif...   \n",
       "\n",
       "                                                text  label  \n",
       "0  No comment is expected from Barack Obama Membe...      1  \n",
       "1     Did they post their votes for Hillary already?      1  \n",
       "2   Now, most of the demonstrators gathered last ...      1  \n",
       "3  A dozen politically active pastors came here f...      0  \n",
       "4  The RS-28 Sarmat missile, dubbed Satan 2, will...      1  "
      ]
     },
     "execution_count": 20,
     "metadata": {},
     "output_type": "execute_result"
    }
   ],
   "source": [
    "#Read the csv file (โหลด Fake news dataset ละเปลื่ยน path )\n",
    "FN_dataset = pd.read_csv(f'C:/Users/TKZ IT zone/Downloads/archive/WELFake_Dataset.csv')  \n",
    "FN_dataset.head()"
   ]
  },
  {
   "cell_type": "code",
   "execution_count": 21,
   "id": "6497380d",
   "metadata": {},
   "outputs": [
    {
     "data": {
      "text/html": [
       "<div>\n",
       "<style scoped>\n",
       "    .dataframe tbody tr th:only-of-type {\n",
       "        vertical-align: middle;\n",
       "    }\n",
       "\n",
       "    .dataframe tbody tr th {\n",
       "        vertical-align: top;\n",
       "    }\n",
       "\n",
       "    .dataframe thead th {\n",
       "        text-align: right;\n",
       "    }\n",
       "</style>\n",
       "<table border=\"1\" class=\"dataframe\">\n",
       "  <thead>\n",
       "    <tr style=\"text-align: right;\">\n",
       "      <th></th>\n",
       "      <th>title</th>\n",
       "      <th>text</th>\n",
       "      <th>label</th>\n",
       "    </tr>\n",
       "  </thead>\n",
       "  <tbody>\n",
       "    <tr>\n",
       "      <th>0</th>\n",
       "      <td>LAW ENFORCEMENT ON HIGH ALERT Following Threat...</td>\n",
       "      <td>No comment is expected from Barack Obama Membe...</td>\n",
       "      <td>1</td>\n",
       "    </tr>\n",
       "    <tr>\n",
       "      <th>1</th>\n",
       "      <td>NaN</td>\n",
       "      <td>Did they post their votes for Hillary already?</td>\n",
       "      <td>1</td>\n",
       "    </tr>\n",
       "    <tr>\n",
       "      <th>2</th>\n",
       "      <td>UNBELIEVABLE! OBAMA’S ATTORNEY GENERAL SAYS MO...</td>\n",
       "      <td>Now, most of the demonstrators gathered last ...</td>\n",
       "      <td>1</td>\n",
       "    </tr>\n",
       "    <tr>\n",
       "      <th>3</th>\n",
       "      <td>Bobby Jindal, raised Hindu, uses story of Chri...</td>\n",
       "      <td>A dozen politically active pastors came here f...</td>\n",
       "      <td>0</td>\n",
       "    </tr>\n",
       "    <tr>\n",
       "      <th>4</th>\n",
       "      <td>SATAN 2: Russia unvelis an image of its terrif...</td>\n",
       "      <td>The RS-28 Sarmat missile, dubbed Satan 2, will...</td>\n",
       "      <td>1</td>\n",
       "    </tr>\n",
       "  </tbody>\n",
       "</table>\n",
       "</div>"
      ],
      "text/plain": [
       "                                               title  \\\n",
       "0  LAW ENFORCEMENT ON HIGH ALERT Following Threat...   \n",
       "1                                                NaN   \n",
       "2  UNBELIEVABLE! OBAMA’S ATTORNEY GENERAL SAYS MO...   \n",
       "3  Bobby Jindal, raised Hindu, uses story of Chri...   \n",
       "4  SATAN 2: Russia unvelis an image of its terrif...   \n",
       "\n",
       "                                                text  label  \n",
       "0  No comment is expected from Barack Obama Membe...      1  \n",
       "1     Did they post their votes for Hillary already?      1  \n",
       "2   Now, most of the demonstrators gathered last ...      1  \n",
       "3  A dozen politically active pastors came here f...      0  \n",
       "4  The RS-28 Sarmat missile, dubbed Satan 2, will...      1  "
      ]
     },
     "execution_count": 21,
     "metadata": {},
     "output_type": "execute_result"
    }
   ],
   "source": [
    "#Remove Unnamed column as it is not necessary\n",
    "FN_dataset = FN_dataset.drop(columns=['Unnamed: 0'])\n",
    "FN_dataset.head()"
   ]
  },
  {
   "cell_type": "code",
   "execution_count": 22,
   "id": "fa43218c",
   "metadata": {},
   "outputs": [],
   "source": [
    "#Update new dataset\n",
    "FN_dataset.to_csv(f'C:/Users/TKZ IT zone/Downloads/archive/WELFake_Dataset_edit1.csv', index=False) "
   ]
  },
  {
   "cell_type": "code",
   "execution_count": 23,
   "id": "8e60a83c",
   "metadata": {},
   "outputs": [],
   "source": [
    "#Title and text columns are independet variables and label is not.\n",
    "#Extract only the independent column\n",
    "independent= FN_dataset.iloc[:,:-1].values  \n",
    "#Extract only dependent columns\n",
    "dependent= FN_dataset.iloc[:,2].values"
   ]
  },
  {
   "cell_type": "code",
   "execution_count": 24,
   "id": "b1a95463",
   "metadata": {
    "scrolled": false
   },
   "outputs": [
    {
     "name": "stdout",
     "output_type": "stream",
     "text": [
      "Independent variables (Title and Text columns):\n",
      "[['LAW ENFORCEMENT ON HIGH ALERT Following Threats Against Cops And Whites On 9-11By #BlackLivesMatter And #FYF911 Terrorists [VIDEO]'\n",
      "  'No comment is expected from Barack Obama Members of the #FYF911 or #FukYoFlag and #BlackLivesMatter movements called for the lynching and hanging of white people and cops. They encouraged others on a radio show Tuesday night to  turn the tide  and kill white people and cops to send a message about the killing of black people in America.One of the F***YoFlag organizers is called  Sunshine.  She has a radio blog show hosted from Texas called,  Sunshine s F***ing Opinion Radio Show. A snapshot of her #FYF911 @LOLatWhiteFear Twitter page at 9:53 p.m. shows that she was urging supporters to  Call now!! #fyf911 tonight we continue to dismantle the illusion of white Below is a SNAPSHOT Twitter Radio Call Invite   #FYF911The radio show aired at 10:00 p.m. eastern standard time.During the show, callers clearly call for  lynching  and  killing  of white people.A 2:39 minute clip from the radio show can be heard here. It was provided to Breitbart Texas by someone who would like to be referred to as  Hannibal.  He has already received death threats as a result of interrupting #FYF911 conference calls.An unidentified black man said  when those mother f**kers are by themselves, that s when when we should start f***ing them up. Like they do us, when a bunch of them ni**ers takin  one of us out, that s how we should roll up.  He said,  Cause we already roll up in gangs anyway. There should be six or seven black mother f**ckers, see that white person, and then lynch their ass. Let s turn the tables. They conspired that if  cops started losing people,  then  there will be a state of emergency. He speculated that one of two things would happen,  a big-ass [R s?????] war,  or  ni**ers, they are going to start backin  up. We are already getting killed out here so what the f**k we got to lose? Sunshine could be heard saying,  Yep, that s true. That s so f**king true. He said,  We need to turn the tables on them. Our kids are getting shot out here. Somebody needs to become a sacrifice on their side.He said,  Everybody ain t down for that s**t, or whatever, but like I say, everybody has a different position of war.  He continued,  Because they don t give a f**k anyway.  He said again,  We might as well utilized them for that s**t and turn the tables on these n**ers. He said, that way  we can start lookin  like we ain t havin  that many casualties, and there can be more causalities on their side instead of ours. They are out their killing black people, black lives don t matter, that s what those mother f**kers   so we got to make it matter to them. Find a mother f**ker that is alone. Snap his ass, and then f***in hang him from a damn tree. Take a picture of it and then send it to the mother f**kers. We  just need one example,  and  then people will start watchin .  This will turn the tables on s**t, he said. He said this will start  a trickle-down effect.  He said that when one white person is hung and then they are just  flat-hanging,  that will start the  trickle-down effect.  He continued,  Black people are good at starting trends. He said that was how  to get the upper-hand. Another black man spoke up saying they needed to kill  cops that are killing us. The first black male said,  That will be the best method right there. Breitbart Texas previously reported how Sunshine was upset when  racist white people  infiltrated and disrupted one of her conference calls. She subsequently released the phone number of one of the infiltrators. The veteran immediately started receiving threatening calls.One of the #F***YoFlag movement supporters allegedly told a veteran who infiltrated their publicly posted conference call,  We are going to rape and gut your pregnant wife, and your f***ing piece of sh*t unborn creature will be hung from a tree. Breitbart Texas previously encountered Sunshine at a Sandra Bland protest at the Waller County Jail in Texas, where she said all white people should be killed. She told journalists and photographers,  You see this nappy-ass hair on my head?   That means I am one of those more militant Negroes.  She said she was at the protest because  these redneck mother-f**kers murdered Sandra Bland because she had nappy hair like me. #FYF911 black radicals say they will be holding the  imperial powers  that are actually responsible for the terrorist attacks on September 11th accountable on that day, as reported by Breitbart Texas. There are several websites and Twitter handles for the movement. Palmetto Star  describes himself as one of the head organizers. He said in a YouTube video that supporters will be burning their symbols of  the illusion of their superiority,  their  false white supremacy,  like the American flag, the British flag, police uniforms, and Ku Klux Klan hoods.Sierra McGrone or  Nocturnus Libertus  posted,  you too can help a young Afrikan clean their a** with the rag of oppression.  She posted two photos, one that appears to be herself, and a photo of a black man, wiping their naked butts with the American flag.For entire story: Breitbart News']]\n"
     ]
    }
   ],
   "source": [
    "#Show independent variable array list\n",
    "print(\"Independent variables (Title and Text columns):\")\n",
    "print(independent[:1]) \n"
   ]
  },
  {
   "cell_type": "code",
   "execution_count": 25,
   "id": "6230417d",
   "metadata": {},
   "outputs": [
    {
     "name": "stdout",
     "output_type": "stream",
     "text": [
      "\n",
      "Dependent variable (Label):\n",
      "[1 1 1 0 1]\n"
     ]
    }
   ],
   "source": [
    "#Show dependent variable array list.\n",
    "print(\"\\nDependent variable (Label):\")\n",
    "print(dependent[:5])  "
   ]
  },
  {
   "cell_type": "code",
   "execution_count": 29,
   "id": "ce68e637",
   "metadata": {},
   "outputs": [],
   "source": [
    "#Cleaning data\n",
    "#1.Remove all null values with \"missing\" value and create 2 new columns to extract missing values\n",
    "#From Title and Text columns. In this way the accuracy of the model won't be biased by \"missing\" word.\n",
    "#ลบค่า NULL VALUE ละแทนค่าด้วย MISSING หลังจากนั้นสร้าง COLUMN เพิ่มขึ้นมาเพื่อเช็คจะได้ไม่กระทบกับ MODEL ACCURACY\n",
    "FN_dataset['title_missing'] = FN_dataset['title'].isna()\n",
    "FN_dataset['text_missing'] = FN_dataset['text'].isna()\n",
    "#Replace missing values with a placeholder\n",
    "FN_dataset['title'].fillna('missing', inplace=True)\n",
    "FN_dataset['text'].fillna('missing', inplace=True)\n",
    "\n",
    "#2.Convert all text to lowercase for consistency เปลื่ยนอักษรให้เป็วตัวเล็ก\n",
    "FN_dataset['title'] = FN_dataset['title'].str.lower()\n",
    "\n",
    "#3.Removing punctuation and special characters. ลบตัวอักษรพิเศษ\n",
    "def remove_punctuation(text):\n",
    "    text = re.sub(f\"[{string.punctuation}]\", \"\", text)\n",
    "    text = re.sub(r\"[^\\w\\s]\", \"\", text)\n",
    "    return text\n",
    "FN_dataset['title'] = FN_dataset['title'].apply(remove_punctuation)\n",
    "FN_dataset['text'] = FN_dataset['text'].apply(remove_punctuation)\n",
    "\n",
    "\n",
    "#Apply the changes \n",
    "FN_dataset.to_csv(f'C:/Users/TKZ IT zone/Downloads/archive/WELFake_Dataset_edit2.csv', index=False)\n",
    "\n",
    "\n",
    "\n",
    "\n"
   ]
  },
  {
   "cell_type": "code",
   "execution_count": 37,
   "id": "6fd35b90",
   "metadata": {},
   "outputs": [
    {
     "name": "stderr",
     "output_type": "stream",
     "text": [
      "[nltk_data] Downloading package punkt to C:\\Users\\TKZ IT\n",
      "[nltk_data]     zone\\AppData\\Roaming\\nltk_data...\n",
      "[nltk_data]   Package punkt is already up-to-date!\n"
     ]
    }
   ],
   "source": [
    "#4.Tokenization ทำให้ตัวอักษรเป็นคำ\n",
    "#Download the NLTK tokenizer models \n",
    "nltk.download('punkt')\n",
    "FN_dataset = pd.read_csv(f'C:/Users/TKZ IT zone/Downloads/archive/WELFake_Dataset_edit2.csv')\n",
    "\n",
    "FN_dataset['title'] = FN_dataset['title'].fillna('').astype(str)\n",
    "FN_dataset['text'] = FN_dataset['text'].fillna('').astype(str)\n",
    "\n",
    "def tokenize_text(text):\n",
    "    return [word for word in word_tokenize(text) if word.isalnum()]\n",
    "\n",
    "#Apply tokenization to 'title' and 'text' columns\n",
    "FN_dataset['title_tokens'] = FN_dataset['title'].apply(tokenize_text)\n",
    "FN_dataset['text_tokens'] = FN_dataset['text'].apply(tokenize_text)\n",
    "\n",
    "#Apply the changes \n",
    "FN_dataset.to_csv(f'C:/Users/TKZ IT zone/Downloads/archive/WELFake_Dataset_edit3.csv', index=False)"
   ]
  },
  {
   "cell_type": "code",
   "execution_count": 40,
   "id": "34ad5fcb",
   "metadata": {},
   "outputs": [
    {
     "name": "stdout",
     "output_type": "stream",
     "text": [
      "Index(['title', 'text', 'label', 'title_missing', 'text_missing',\n",
      "       'title_tokens', 'text_tokens'],\n",
      "      dtype='object')\n",
      "                                               title  \\\n",
      "0  law enforcement on high alert following threat...   \n",
      "1                                            missing   \n",
      "2  unbelievable obamas attorney general says most...   \n",
      "3  bobby jindal raised hindu uses story of christ...   \n",
      "4  satan 2 russia unvelis an image of its terrify...   \n",
      "\n",
      "                                                text  label  title_missing  \\\n",
      "0  no comment is expected from barack obama membe...      1          False   \n",
      "1      did they post their votes for hillary already      1          False   \n",
      "2   now most of the demonstrators gathered last n...      1          False   \n",
      "3  a dozen politically active pastors came here f...      0          False   \n",
      "4  the rs28 sarmat missile dubbed satan 2 will re...      1          False   \n",
      "\n",
      "   text_missing                                       title_tokens  \\\n",
      "0         False  ['law', 'enforcement', 'on', 'high', 'alert', ...   \n",
      "1         False                                        ['missing']   \n",
      "2         False  ['unbelievable', 'obamas', 'attorney', 'genera...   \n",
      "3         False  ['bobby', 'jindal', 'raised', 'hindu', 'uses',...   \n",
      "4         False  ['satan', '2', 'russia', 'unvelis', 'an', 'ima...   \n",
      "\n",
      "                                         text_tokens  \n",
      "0  ['no', 'comment', 'is', 'expected', 'from', 'b...  \n",
      "1  ['did', 'they', 'post', 'their', 'votes', 'for...  \n",
      "2  ['now', 'most', 'of', 'the', 'demonstrators', ...  \n",
      "3  ['a', 'dozen', 'politically', 'active', 'pasto...  \n",
      "4  ['the', 'rs28', 'sarmat', 'missile', 'dubbed',...  \n"
     ]
    }
   ],
   "source": [
    "#Check the quality of the cleaned dataset\n",
    "FN_dataset = pd.read_csv(f'C:/Users/TKZ IT zone/Downloads/archive/WELFake_Dataset_edit3.csv')\n",
    "print(FN_dataset.columns)\n",
    "print(FN_dataset.head())"
   ]
  },
  {
   "cell_type": "code",
   "execution_count": null,
   "id": "2fdfebf0",
   "metadata": {
    "scrolled": true
   },
   "outputs": [],
   "source": []
  },
  {
   "cell_type": "code",
   "execution_count": null,
   "id": "c821ad0d",
   "metadata": {
    "scrolled": true
   },
   "outputs": [],
   "source": []
  },
  {
   "cell_type": "code",
   "execution_count": null,
   "id": "8c3f4bea",
   "metadata": {},
   "outputs": [],
   "source": []
  }
 ],
 "metadata": {
  "kernelspec": {
   "display_name": "Python 3 (ipykernel)",
   "language": "python",
   "name": "python3"
  },
  "language_info": {
   "codemirror_mode": {
    "name": "ipython",
    "version": 3
   },
   "file_extension": ".py",
   "mimetype": "text/x-python",
   "name": "python",
   "nbconvert_exporter": "python",
   "pygments_lexer": "ipython3",
   "version": "3.11.5"
  }
 },
 "nbformat": 4,
 "nbformat_minor": 5
}
