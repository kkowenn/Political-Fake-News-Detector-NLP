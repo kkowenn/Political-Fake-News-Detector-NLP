{
  "nbformat": 4,
  "nbformat_minor": 0,
  "metadata": {
    "colab": {
      "provenance": [],
      "gpuType": "T4"
    },
    "kernelspec": {
      "name": "python3",
      "display_name": "Python 3"
    },
    "language_info": {
      "name": "python"
    },
    "accelerator": "GPU"
  },
  "cells": [
    {
      "cell_type": "code",
      "execution_count": null,
      "metadata": {
        "colab": {
          "base_uri": "https://localhost:8080/"
        },
        "id": "4WJWps-gvDbP",
        "outputId": "8cdd2834-2144-4aad-f343-fefb6633dfe9"
      },
      "outputs": [
        {
          "output_type": "stream",
          "name": "stdout",
          "text": [
            "Mounted at /content/drive\n"
          ]
        }
      ],
      "source": [
        "from google.colab import drive\n",
        "drive.mount('/content/drive')"
      ]
    },
    {
      "cell_type": "code",
      "source": [
        "import pandas as pd\n",
        "dataset = pd.read_csv('/content/drive/My Drive/df_cleaned.csv')"
      ],
      "metadata": {
        "id": "UbA3ntUHxLUj"
      },
      "execution_count": null,
      "outputs": []
    },
    {
      "cell_type": "code",
      "source": [
        "print(f\"Dataset loaded with {dataset.shape[0]} rows and {dataset.shape[1]} columns.\")"
      ],
      "metadata": {
        "id": "fLKZRbfby1jZ"
      },
      "execution_count": null,
      "outputs": []
    },
    {
      "cell_type": "code",
      "source": [
        "# let us see whether our cleaned dataset contains any null values.\n",
        "dataset.isnull().sum()"
      ],
      "metadata": {
        "colab": {
          "base_uri": "https://localhost:8080/",
          "height": 269
        },
        "id": "4LIrN0wayb1b",
        "outputId": "201626af-49f8-470d-9a0f-4d465d17c653"
      },
      "execution_count": null,
      "outputs": [
        {
          "output_type": "execute_result",
          "data": {
            "text/plain": [
              "title            0\n",
              "text             0\n",
              "label            0\n",
              "complete_text    0\n",
              "clean_list       0\n",
              "clean_text       0\n",
              "dtype: int64"
            ],
            "text/html": [
              "<div>\n",
              "<style scoped>\n",
              "    .dataframe tbody tr th:only-of-type {\n",
              "        vertical-align: middle;\n",
              "    }\n",
              "\n",
              "    .dataframe tbody tr th {\n",
              "        vertical-align: top;\n",
              "    }\n",
              "\n",
              "    .dataframe thead th {\n",
              "        text-align: right;\n",
              "    }\n",
              "</style>\n",
              "<table border=\"1\" class=\"dataframe\">\n",
              "  <thead>\n",
              "    <tr style=\"text-align: right;\">\n",
              "      <th></th>\n",
              "      <th>0</th>\n",
              "    </tr>\n",
              "  </thead>\n",
              "  <tbody>\n",
              "    <tr>\n",
              "      <th>title</th>\n",
              "      <td>0</td>\n",
              "    </tr>\n",
              "    <tr>\n",
              "      <th>text</th>\n",
              "      <td>0</td>\n",
              "    </tr>\n",
              "    <tr>\n",
              "      <th>label</th>\n",
              "      <td>0</td>\n",
              "    </tr>\n",
              "    <tr>\n",
              "      <th>complete_text</th>\n",
              "      <td>0</td>\n",
              "    </tr>\n",
              "    <tr>\n",
              "      <th>clean_list</th>\n",
              "      <td>0</td>\n",
              "    </tr>\n",
              "    <tr>\n",
              "      <th>clean_text</th>\n",
              "      <td>0</td>\n",
              "    </tr>\n",
              "  </tbody>\n",
              "</table>\n",
              "</div><br><label><b>dtype:</b> int64</label>"
            ]
          },
          "metadata": {},
          "execution_count": 5
        }
      ]
    },
    {
      "cell_type": "code",
      "source": [
        "dataset.head()"
      ],
      "metadata": {
        "colab": {
          "base_uri": "https://localhost:8080/",
          "height": 289
        },
        "id": "Xo7eGMbG1Z3r",
        "outputId": "458ea92a-eba1-4efe-e521-ae2846d186d1"
      },
      "execution_count": null,
      "outputs": [
        {
          "output_type": "execute_result",
          "data": {
            "text/plain": [
              "                                               title  \\\n",
              "0  LAW ENFORCEMENT ON HIGH ALERT Following Threat...   \n",
              "1  UNBELIEVABLE! OBAMA’S ATTORNEY GENERAL SAYS MO...   \n",
              "2  Bobby Jindal, raised Hindu, uses story of Chri...   \n",
              "3  SATAN 2: Russia unvelis an image of its terrif...   \n",
              "4  About Time! Christian Group Sues Amazon and SP...   \n",
              "\n",
              "                                                text  label  \\\n",
              "0  No comment is expected from Barack Obama Membe...      1   \n",
              "1   Now, most of the demonstrators gathered last ...      1   \n",
              "2  A dozen politically active pastors came here f...      0   \n",
              "3  The RS-28 Sarmat missile, dubbed Satan 2, will...      1   \n",
              "4  All we can say on this one is it s about time ...      1   \n",
              "\n",
              "                                       complete_text  \\\n",
              "0  LAW ENFORCEMENT ON HIGH ALERT Following Threat...   \n",
              "1  UNBELIEVABLE! OBAMA’S ATTORNEY GENERAL SAYS MO...   \n",
              "2  Bobby Jindal, raised Hindu, uses story of Chri...   \n",
              "3  SATAN 2: Russia unvelis an image of its terrif...   \n",
              "4  About Time! Christian Group Sues Amazon and SP...   \n",
              "\n",
              "                                          clean_list  \\\n",
              "0  ['enforcement', 'high', 'alert', 'following', ...   \n",
              "1  ['unbelievable', 'obama', 'attorney', 'general...   \n",
              "2  ['bobby', 'jindal', 'raised', 'hindu', 'uses',...   \n",
              "3  ['satan', 'russia', 'unvelis', 'image', 'terri...   \n",
              "4  ['time', 'christian', 'group', 'sues', 'amazon...   \n",
              "\n",
              "                                          clean_text  \n",
              "0  enforcement high alert following threats cops ...  \n",
              "1  unbelievable obama attorney general says charl...  \n",
              "2  bobby jindal raised hindu uses story christian...  \n",
              "3  satan russia unvelis image terrifying supernuk...  \n",
              "4  time christian group sues amazon splc designat...  "
            ],
            "text/html": [
              "\n",
              "  <div id=\"df-9f60cb43-11a0-44d6-80a0-dc6c3bce85c0\" class=\"colab-df-container\">\n",
              "    <div>\n",
              "<style scoped>\n",
              "    .dataframe tbody tr th:only-of-type {\n",
              "        vertical-align: middle;\n",
              "    }\n",
              "\n",
              "    .dataframe tbody tr th {\n",
              "        vertical-align: top;\n",
              "    }\n",
              "\n",
              "    .dataframe thead th {\n",
              "        text-align: right;\n",
              "    }\n",
              "</style>\n",
              "<table border=\"1\" class=\"dataframe\">\n",
              "  <thead>\n",
              "    <tr style=\"text-align: right;\">\n",
              "      <th></th>\n",
              "      <th>title</th>\n",
              "      <th>text</th>\n",
              "      <th>label</th>\n",
              "      <th>complete_text</th>\n",
              "      <th>clean_list</th>\n",
              "      <th>clean_text</th>\n",
              "    </tr>\n",
              "  </thead>\n",
              "  <tbody>\n",
              "    <tr>\n",
              "      <th>0</th>\n",
              "      <td>LAW ENFORCEMENT ON HIGH ALERT Following Threat...</td>\n",
              "      <td>No comment is expected from Barack Obama Membe...</td>\n",
              "      <td>1</td>\n",
              "      <td>LAW ENFORCEMENT ON HIGH ALERT Following Threat...</td>\n",
              "      <td>['enforcement', 'high', 'alert', 'following', ...</td>\n",
              "      <td>enforcement high alert following threats cops ...</td>\n",
              "    </tr>\n",
              "    <tr>\n",
              "      <th>1</th>\n",
              "      <td>UNBELIEVABLE! OBAMA’S ATTORNEY GENERAL SAYS MO...</td>\n",
              "      <td>Now, most of the demonstrators gathered last ...</td>\n",
              "      <td>1</td>\n",
              "      <td>UNBELIEVABLE! OBAMA’S ATTORNEY GENERAL SAYS MO...</td>\n",
              "      <td>['unbelievable', 'obama', 'attorney', 'general...</td>\n",
              "      <td>unbelievable obama attorney general says charl...</td>\n",
              "    </tr>\n",
              "    <tr>\n",
              "      <th>2</th>\n",
              "      <td>Bobby Jindal, raised Hindu, uses story of Chri...</td>\n",
              "      <td>A dozen politically active pastors came here f...</td>\n",
              "      <td>0</td>\n",
              "      <td>Bobby Jindal, raised Hindu, uses story of Chri...</td>\n",
              "      <td>['bobby', 'jindal', 'raised', 'hindu', 'uses',...</td>\n",
              "      <td>bobby jindal raised hindu uses story christian...</td>\n",
              "    </tr>\n",
              "    <tr>\n",
              "      <th>3</th>\n",
              "      <td>SATAN 2: Russia unvelis an image of its terrif...</td>\n",
              "      <td>The RS-28 Sarmat missile, dubbed Satan 2, will...</td>\n",
              "      <td>1</td>\n",
              "      <td>SATAN 2: Russia unvelis an image of its terrif...</td>\n",
              "      <td>['satan', 'russia', 'unvelis', 'image', 'terri...</td>\n",
              "      <td>satan russia unvelis image terrifying supernuk...</td>\n",
              "    </tr>\n",
              "    <tr>\n",
              "      <th>4</th>\n",
              "      <td>About Time! Christian Group Sues Amazon and SP...</td>\n",
              "      <td>All we can say on this one is it s about time ...</td>\n",
              "      <td>1</td>\n",
              "      <td>About Time! Christian Group Sues Amazon and SP...</td>\n",
              "      <td>['time', 'christian', 'group', 'sues', 'amazon...</td>\n",
              "      <td>time christian group sues amazon splc designat...</td>\n",
              "    </tr>\n",
              "  </tbody>\n",
              "</table>\n",
              "</div>\n",
              "    <div class=\"colab-df-buttons\">\n",
              "\n",
              "  <div class=\"colab-df-container\">\n",
              "    <button class=\"colab-df-convert\" onclick=\"convertToInteractive('df-9f60cb43-11a0-44d6-80a0-dc6c3bce85c0')\"\n",
              "            title=\"Convert this dataframe to an interactive table.\"\n",
              "            style=\"display:none;\">\n",
              "\n",
              "  <svg xmlns=\"http://www.w3.org/2000/svg\" height=\"24px\" viewBox=\"0 -960 960 960\">\n",
              "    <path d=\"M120-120v-720h720v720H120Zm60-500h600v-160H180v160Zm220 220h160v-160H400v160Zm0 220h160v-160H400v160ZM180-400h160v-160H180v160Zm440 0h160v-160H620v160ZM180-180h160v-160H180v160Zm440 0h160v-160H620v160Z\"/>\n",
              "  </svg>\n",
              "    </button>\n",
              "\n",
              "  <style>\n",
              "    .colab-df-container {\n",
              "      display:flex;\n",
              "      gap: 12px;\n",
              "    }\n",
              "\n",
              "    .colab-df-convert {\n",
              "      background-color: #E8F0FE;\n",
              "      border: none;\n",
              "      border-radius: 50%;\n",
              "      cursor: pointer;\n",
              "      display: none;\n",
              "      fill: #1967D2;\n",
              "      height: 32px;\n",
              "      padding: 0 0 0 0;\n",
              "      width: 32px;\n",
              "    }\n",
              "\n",
              "    .colab-df-convert:hover {\n",
              "      background-color: #E2EBFA;\n",
              "      box-shadow: 0px 1px 2px rgba(60, 64, 67, 0.3), 0px 1px 3px 1px rgba(60, 64, 67, 0.15);\n",
              "      fill: #174EA6;\n",
              "    }\n",
              "\n",
              "    .colab-df-buttons div {\n",
              "      margin-bottom: 4px;\n",
              "    }\n",
              "\n",
              "    [theme=dark] .colab-df-convert {\n",
              "      background-color: #3B4455;\n",
              "      fill: #D2E3FC;\n",
              "    }\n",
              "\n",
              "    [theme=dark] .colab-df-convert:hover {\n",
              "      background-color: #434B5C;\n",
              "      box-shadow: 0px 1px 3px 1px rgba(0, 0, 0, 0.15);\n",
              "      filter: drop-shadow(0px 1px 2px rgba(0, 0, 0, 0.3));\n",
              "      fill: #FFFFFF;\n",
              "    }\n",
              "  </style>\n",
              "\n",
              "    <script>\n",
              "      const buttonEl =\n",
              "        document.querySelector('#df-9f60cb43-11a0-44d6-80a0-dc6c3bce85c0 button.colab-df-convert');\n",
              "      buttonEl.style.display =\n",
              "        google.colab.kernel.accessAllowed ? 'block' : 'none';\n",
              "\n",
              "      async function convertToInteractive(key) {\n",
              "        const element = document.querySelector('#df-9f60cb43-11a0-44d6-80a0-dc6c3bce85c0');\n",
              "        const dataTable =\n",
              "          await google.colab.kernel.invokeFunction('convertToInteractive',\n",
              "                                                    [key], {});\n",
              "        if (!dataTable) return;\n",
              "\n",
              "        const docLinkHtml = 'Like what you see? Visit the ' +\n",
              "          '<a target=\"_blank\" href=https://colab.research.google.com/notebooks/data_table.ipynb>data table notebook</a>'\n",
              "          + ' to learn more about interactive tables.';\n",
              "        element.innerHTML = '';\n",
              "        dataTable['output_type'] = 'display_data';\n",
              "        await google.colab.output.renderOutput(dataTable, element);\n",
              "        const docLink = document.createElement('div');\n",
              "        docLink.innerHTML = docLinkHtml;\n",
              "        element.appendChild(docLink);\n",
              "      }\n",
              "    </script>\n",
              "  </div>\n",
              "\n",
              "\n",
              "<div id=\"df-a105c2c5-4ee6-477a-973a-211095985c3f\">\n",
              "  <button class=\"colab-df-quickchart\" onclick=\"quickchart('df-a105c2c5-4ee6-477a-973a-211095985c3f')\"\n",
              "            title=\"Suggest charts\"\n",
              "            style=\"display:none;\">\n",
              "\n",
              "<svg xmlns=\"http://www.w3.org/2000/svg\" height=\"24px\"viewBox=\"0 0 24 24\"\n",
              "     width=\"24px\">\n",
              "    <g>\n",
              "        <path d=\"M19 3H5c-1.1 0-2 .9-2 2v14c0 1.1.9 2 2 2h14c1.1 0 2-.9 2-2V5c0-1.1-.9-2-2-2zM9 17H7v-7h2v7zm4 0h-2V7h2v10zm4 0h-2v-4h2v4z\"/>\n",
              "    </g>\n",
              "</svg>\n",
              "  </button>\n",
              "\n",
              "<style>\n",
              "  .colab-df-quickchart {\n",
              "      --bg-color: #E8F0FE;\n",
              "      --fill-color: #1967D2;\n",
              "      --hover-bg-color: #E2EBFA;\n",
              "      --hover-fill-color: #174EA6;\n",
              "      --disabled-fill-color: #AAA;\n",
              "      --disabled-bg-color: #DDD;\n",
              "  }\n",
              "\n",
              "  [theme=dark] .colab-df-quickchart {\n",
              "      --bg-color: #3B4455;\n",
              "      --fill-color: #D2E3FC;\n",
              "      --hover-bg-color: #434B5C;\n",
              "      --hover-fill-color: #FFFFFF;\n",
              "      --disabled-bg-color: #3B4455;\n",
              "      --disabled-fill-color: #666;\n",
              "  }\n",
              "\n",
              "  .colab-df-quickchart {\n",
              "    background-color: var(--bg-color);\n",
              "    border: none;\n",
              "    border-radius: 50%;\n",
              "    cursor: pointer;\n",
              "    display: none;\n",
              "    fill: var(--fill-color);\n",
              "    height: 32px;\n",
              "    padding: 0;\n",
              "    width: 32px;\n",
              "  }\n",
              "\n",
              "  .colab-df-quickchart:hover {\n",
              "    background-color: var(--hover-bg-color);\n",
              "    box-shadow: 0 1px 2px rgba(60, 64, 67, 0.3), 0 1px 3px 1px rgba(60, 64, 67, 0.15);\n",
              "    fill: var(--button-hover-fill-color);\n",
              "  }\n",
              "\n",
              "  .colab-df-quickchart-complete:disabled,\n",
              "  .colab-df-quickchart-complete:disabled:hover {\n",
              "    background-color: var(--disabled-bg-color);\n",
              "    fill: var(--disabled-fill-color);\n",
              "    box-shadow: none;\n",
              "  }\n",
              "\n",
              "  .colab-df-spinner {\n",
              "    border: 2px solid var(--fill-color);\n",
              "    border-color: transparent;\n",
              "    border-bottom-color: var(--fill-color);\n",
              "    animation:\n",
              "      spin 1s steps(1) infinite;\n",
              "  }\n",
              "\n",
              "  @keyframes spin {\n",
              "    0% {\n",
              "      border-color: transparent;\n",
              "      border-bottom-color: var(--fill-color);\n",
              "      border-left-color: var(--fill-color);\n",
              "    }\n",
              "    20% {\n",
              "      border-color: transparent;\n",
              "      border-left-color: var(--fill-color);\n",
              "      border-top-color: var(--fill-color);\n",
              "    }\n",
              "    30% {\n",
              "      border-color: transparent;\n",
              "      border-left-color: var(--fill-color);\n",
              "      border-top-color: var(--fill-color);\n",
              "      border-right-color: var(--fill-color);\n",
              "    }\n",
              "    40% {\n",
              "      border-color: transparent;\n",
              "      border-right-color: var(--fill-color);\n",
              "      border-top-color: var(--fill-color);\n",
              "    }\n",
              "    60% {\n",
              "      border-color: transparent;\n",
              "      border-right-color: var(--fill-color);\n",
              "    }\n",
              "    80% {\n",
              "      border-color: transparent;\n",
              "      border-right-color: var(--fill-color);\n",
              "      border-bottom-color: var(--fill-color);\n",
              "    }\n",
              "    90% {\n",
              "      border-color: transparent;\n",
              "      border-bottom-color: var(--fill-color);\n",
              "    }\n",
              "  }\n",
              "</style>\n",
              "\n",
              "  <script>\n",
              "    async function quickchart(key) {\n",
              "      const quickchartButtonEl =\n",
              "        document.querySelector('#' + key + ' button');\n",
              "      quickchartButtonEl.disabled = true;  // To prevent multiple clicks.\n",
              "      quickchartButtonEl.classList.add('colab-df-spinner');\n",
              "      try {\n",
              "        const charts = await google.colab.kernel.invokeFunction(\n",
              "            'suggestCharts', [key], {});\n",
              "      } catch (error) {\n",
              "        console.error('Error during call to suggestCharts:', error);\n",
              "      }\n",
              "      quickchartButtonEl.classList.remove('colab-df-spinner');\n",
              "      quickchartButtonEl.classList.add('colab-df-quickchart-complete');\n",
              "    }\n",
              "    (() => {\n",
              "      let quickchartButtonEl =\n",
              "        document.querySelector('#df-a105c2c5-4ee6-477a-973a-211095985c3f button');\n",
              "      quickchartButtonEl.style.display =\n",
              "        google.colab.kernel.accessAllowed ? 'block' : 'none';\n",
              "    })();\n",
              "  </script>\n",
              "</div>\n",
              "\n",
              "    </div>\n",
              "  </div>\n"
            ],
            "application/vnd.google.colaboratory.intrinsic+json": {
              "type": "dataframe",
              "variable_name": "dataset",
              "summary": "{\n  \"name\": \"dataset\",\n  \"rows\": 71537,\n  \"fields\": [\n    {\n      \"column\": \"title\",\n      \"properties\": {\n        \"dtype\": \"string\",\n        \"num_unique_values\": 62308,\n        \"samples\": [\n          \"About 146,000 Rohingya have fled Myanmar violence to Bangladesh\",\n          \"Franklin Graham: The media didn\\u2019t understand the \\u2018God-factor\\u2019 in Trump\\u2019s win\",\n          \"T\\u00fcrkei: Kritischer Journalist interviewt Oppositionspolitiker in gemeinsamer Gef\\u00e4ngniszelle\"\n        ],\n        \"semantic_type\": \"\",\n        \"description\": \"\"\n      }\n    },\n    {\n      \"column\": \"text\",\n      \"properties\": {\n        \"dtype\": \"string\",\n        \"num_unique_values\": 62200,\n        \"samples\": [\n          \"Analysis from the Brookings Institution says that 15 million people could lose coverage under Speaker Paul Ryan\\u2019s American Health Care Act. [The Congressional Budget Office (CBO) has yet to score the Ryan plan, although the Brookings Institution\\u2019s report does not bode well for the House leadership\\u2019s bill.  The Ryan plan reports, \\u201cWe conclude that CBO\\u2019s analysis will likely estimate that at least 15 million people will lose coverage under the American Health Care Act (AHCA) by the end of the   scoring window. Estimates could be higher, but it\\u2019s [sic] is unlikely they will be significantly lower. \\u201d The Kaiser Family Foundation states that the Ryan plan\\u2019s tax credits aid wealthier Americans more than   individuals. Older Americans would face comparatively less aid through tax credits than younger counterparts. American Medical Association CEO James Madara also criticized the Republican leadership\\u2019s tax credits, saying, \\u201cWe believe credits inversely related to income, rather than age as proposed in the committee\\u2019s legislation, not only result in greater numbers of people insured but are a more efficient use of   resources. \\u201d Ways and Means Chairman Kevin Brady ( ) has maintained that tax credits help everyone get covered. He said, \\u201cIt covers more people, because it applies to those who don\\u2019t have a tax liability, and it\\u2019s advanceable, so it\\u2019s available today. \\u201d Avik Roy, a health expert at Forbes, argued that tax credits in the Ryan plan will \\u201cprice many poor and vulnerable people out of the health insurance market. \\u201d Michael Cannon, the Cato Institute\\u2019s director of health policy studies, believes that the GOP\\u2019s Obamacare replacement bill will force the poor to lose their coverage. He lamented, \\u201cIf the tax credits (read: subsidies) for   Americans are less than under Obamacare, many more   patients will lose coverage. Premiums will continue to rise. Republicans will take the blame for all of it, because they will have failed to repeal Obamacare, or learn its lessons, when they had the chance. \\u201d\",\n          \"At least six members of the Super   New England Patriots have said they will not visit the White House for the traditional meeting that championship teams have with the president. Running back LeGarrette Blount, defensive end Chris Long and defensive tackle Alan Branch on Thursday became the latest to announce that they would skip the visit. Long posted on Twitter that he \\u201cplanned on skipping\\u201d in response to a column in The Daily News that urged him to skip. Blount revealed his decision on Fox Sports in a radio interview on \\u201cThe Rich Eisen Show\\u201d later in the afternoon. \\u201cI just don\\u2019t feel welcome in that house,\\u201d Blount said. \\u201cI\\u2019m going to just leave it at that. \\u201d Branch told Sirius XM Radio that he planned to spend time with family. A day earlier, the Pro Bowl linebacker Dont\\u2019a Hightower bowed out when he told ESPN, \\u201cBeen there, done that,\\u201d having visited with a championship Alabama team. Tight end Martellus Bennett told reporters after the Super Bowl that he would not go: \\u201cIt is what it is,\\u201d he said. \\u201cPeople know how I feel about it. Just follow me on Twitter. \\u201d The outspoken Bennett had joked that he might move to outer space after Donald J. Trump was elected. The Pro Bowl safety Devin McCourty, a team captain,  told Time magazine: \\u201cBasic reason for me is I don\\u2019t feel accepted in the White House. With the president having so many strong opinions and prejudices, I believe certain people might feel accepted there while others won\\u2019t. \\u201d Bennett and McCourty were in the news for their activism last fall, when they raised their fists in protest during the national anthem for one game. At the time, athletes in various sports were protesting racial oppression in the country. The number of Patriots absences may well increase. Running back James White said he had not made up his mind whether to go. \\u201cI\\u2019ll wait till the time comes and decide then,\\u201d he said. No date has been scheduled for this year\\u2019s ceremony honoring the Patriots. The ceremony for last year\\u2019s champions, the Broncos, took place in June. Perhaps no other team has as close an association with Trump as the Patriots. Just before the election, Trump claimed that he had the support of Patriots quarterback Tom Brady and Coach Bill Belichick. Brady, who displayed a \\u201cMake America Great Again\\u201d cap in his locker during the campaign, never explicitly endorsed Trump, but he spoke favorably of him and they have socialized. Trump also cited a supportive letter he had received from Belichick, and several news media accounts confirmed the letter was authentic. The team\\u2019s owner, Robert K. Kraft, has said he has considered Trump a longtime friend. Brady did not attend his team\\u2019s visit with former President Barack Obama at the White House, in 2015, citing family issues. But some athletes who have skipped the trip over the years have explicitly given politics as a reason. Bruins goalie Tim Thomas declined to visit the Obama White House with his teammates in January 2012, saying in a statement: \\u201cI believe the federal government has grown out of control, threatening the rights, liberties and property of the people. \\u201cBecause I believe this, today I exercised my right as a free citizen, and did not visit the White House. \\u201d Baltimore Ravens center Matt Birk cited his opposition to abortion as the reason for skipping a 2013 visit. A number of other athletes have skipped the ceremony while citing scheduling conflicts or family commitments. Presidents for years have invited sports figures to the White House, but the tradition of honoring championships teams there solidified under Ronald Reagan. Major professional champions and many college champions stop by for a presentation and a photo opportunity. Six Patriots, so far, won\\u2019t make the trip this year.\",\n          \"SAN FRANCISCO  \\u2014   By mastering some tough computer chip technology and then pulling off an audacious business strategy based on selling its smartphone knowledge, Qualcomm has made billions of dollars and seized influence in the tech industry. Some days that is a real drag. On Friday, Apple, its longtime partner, sued Qualcomm over what it said was $1 billion in withheld rebates. In the lawsuit, filed in Federal District Court for the Southern District of California, in San Diego, Apple said the money had been promised in conjunction with an agreement not to buy chips from other suppliers or to divulge Qualcomm\\u2019s intellectual property licensing practices. The suit seeks the rebates, among other things. Apple sued three days after the  Federal Trade Commission accused Qualcomm of using anticompetitive practices to guarantee its high royalty payments for advanced wireless technology. The commission cited Qualcomm\\u2019s deals with Taiwanese companies that manufacture Apple iPhones over semiconductors it sells for the iPhone. In its complaint, the commission described Qualcomm as \\u201cthe world\\u2019s dominant supplier\\u201d of semiconductors that manage smartphone communications. The commission said Qualcomm had obtained \\u201celevated royalties\\u201d for its patented intellectual property on wireless communications. Other smartphone chip makers have to pay Qualcomm for that intellectual property, too. The commission and Apple complaints follow several other problems, including a $975 million fine by Chinese regulators in 2015 and activist shareholder complaints later that year that forced layoffs at Qualcomm. Last month, Qualcomm was fined $850 million in South Korea for unfair patent licensing. When Apple provided information to South Korean regulators in that case, and sought competing chips from Intel, Qualcomm refused to pay Apple its promised money, Apple said. Qualcomm has vowed to fight the South Korean charge and the F. T. C. suit. \\u201cApple has intentionally mischaracterized our agreements and negotiations,\\u201d Qualcomm said in a statement, adding that it would fight that lawsuit, too. Few expect Qualcomm to back down. It was shaped by its founders to be brainy, combative and profitable. \\u201cThey are seasoned, and equipped to fight,\\u201d said Mark Hung, an analyst at Gartner. \\u201cBut when such a big company is so reliant on the way it sells its intellectual property, and under the microscope in various geographies, it\\u2019s tough. \\u201d Qualcomm, which is based in San Diego, far from Silicon Valley, was founded in 1985 by seven people, including Irwin Jacobs and Andrew Viterbi. The two were   electrical engineering professors who had formed a military satellite communications company. Qualcomm\\u2019s engineers work at a   campus between a park and the University of California, San Diego. They have earned thousands of patents, including for the airplane mode on smartphones and the way apps are downloaded from stores. Companies like Samsung and Apple need Qualcomm for the technology that enables things like   wireless video for millions of people at once. Its major technology is spread spectrum, which harnesses lots of computation and clever radio engineering for use in the various functions of smartphones. Qualcomm\\u2019s radio technology is called CDMA, for code division multiple access, a way voice calls work more efficiently over cellphone networks. And the company\\u2019s influence grew over the last several years with the advent of   or 3G, phones as people started downloading lots of mobile data as well as making calls. At the time, many thought Qualcomm\\u2019s success would be limited to that transition. Instead, Qualcomm innovated in 4G wireless for the new smartphones from Samsung and Apple that toppled Nokia and Motorola. In its last fiscal year, Qualcomm had revenue of $23. 6 billion and a profit of $5. 7 billion. Qualcomm\\u2019s ventures in phones and network gear helped promote CDMA but did not make much money because older companies did not need CDMA until the success of wireless began to tax the capacity of their networks. Qualcomm turned to Asian companies that wanted to get into wireless. \\u201cYou\\u2019d never have seen the Koreans or the Chinese in wireless if not for Qualcomm and CDMA,\\u201d said Clint McClellan, a   employee of Qualcomm who now runs a wireless health business. \\u201cWe enabled those markets. \\u201d South Korea, in particular, made CDMA an industrial policy, which carried Qualcomm for years. More recently, China accounted for half of Qualcomm\\u2019s revenue. Apple\\u2019s Taiwanese manufacturers, which pay Qualcomm royalties for iPhones, are another big profit center. Qualcomm would not say what it charges for its intellectual property, but analysts figure the fee usually amounts to 5 percent of the selling price of a phone  \\u2014   at least it did, until the 2015 Chinese fine, which included an agreement that Chinese manufacturers pay only about half the old Qualcomm royalty. That, and problems collecting Chinese royalties even before the agreement, hurt Qualcomm\\u2019s share price. In 2015, Jana Partners, an activist hedge fund, stepped in and pressed for a breakup of the company into separate intellectual property and chip businesses. That did not happen, but Qualcomm cut about 15 percent of its staff, cut executive pay and gave Jana three board seats. The stock has recovered to about where it was just before the fine, but not to the heights it reached before the problems. By helping to create today\\u2019s smartphone giants, Qualcomm may have engineered its current woes. Qualcomm executives say they see a connection between the China discounts, which Qualcomm had hoped would be limited to that country, and the latest regulatory attacks. \\u201cWe believe Samsung had a major role to play in the Korean decision,\\u201d said Don Rosenberg, a lawyer for Qualcomm. The regulators, he said, \\u201cwere prodded and misled by commercial interests. \\u201d In an email,   Jee, a spokeswoman for Samsung, said it \\u201cwas one of many multinational corporations\\u201d that responded to questions from South Korean regulators. Qualcomm\\u2019s lawyer figures the Korean case may take years to move through the courts. And recent events, including the impeachment of South Korea\\u2019s president and a  bribery scandal at Samsung, could complicate, or eliminate, Qualcomm\\u2019s regulatory issues there. Additionally, the F. T. C. has just three of its normal five commissioners. One of those, Maureen Ohlhausen, a Republican, voted against the suit. She may be named chairwoman when the current chairwoman, Edith Ramirez, a Democrat, steps down on Feb. 10. Neither the F. T. C. nor Apple would comment on the United States case against Qualcomm. \\u201cIt\\u2019s disappointing when our partners want to pay less after we\\u2019ve contributed to their success,\\u201d said Derek Aberle, Qualcomm\\u2019s president. Now it must get out ahead of other technology inventors in 5G, possibly while paying billions in fines and dealing with a painful restructuring and fraying relationships with its biggest customers. \\u201cWe\\u2019re not sitting still\\u201d while the problems are sorted, Mr. Aberle said. \\u201cYou have to invest, and invent cool stuff that will change the way people live their lives. \\u201d In other words, create unique technology so people will keep paying for Qualcomm\\u2019s expensive intellectual property.\"\n        ],\n        \"semantic_type\": \"\",\n        \"description\": \"\"\n      }\n    },\n    {\n      \"column\": \"label\",\n      \"properties\": {\n        \"dtype\": \"number\",\n        \"std\": 0,\n        \"min\": 0,\n        \"max\": 1,\n        \"num_unique_values\": 2,\n        \"samples\": [\n          0,\n          1\n        ],\n        \"semantic_type\": \"\",\n        \"description\": \"\"\n      }\n    },\n    {\n      \"column\": \"complete_text\",\n      \"properties\": {\n        \"dtype\": \"string\",\n        \"num_unique_values\": 63121,\n        \"samples\": [\n          \" Donald Trump Responds To Mockery Over Fake Swedish Attack \\u2013 Prepare To Laugh Your A** Off Last night, at a rally in Melbourne, Florida, Trump was trying to build more fear of brown people in his base of loyalists by referencing a completely imaginary terror attack in Sweden. Since then, he s received an earful from the former Prime Minister of Sweden, prompted questions from confused Swedes, and social media has been abuzz with mockery of the imaginary attack, too.One would have expected Trump to respond fairly quickly, since he s now formally joined the ranks of Kellyanne Conway and Sean Spicer when it comes to fake terror attacks, but he didn t. He waited until this afternoon to respond, and it s extremely laughable:My statement as to what s happening in Sweden was in reference to a story that was broadcast on @FoxNews concerning immigrants & Sweden.  Donald J. Trump (@realDonaldTrump) February 19, 2017Yes, sure, by all means, let s call this debacle Fox News  fault and completely ignore the words that actually spewed forth from his mouth: You look at what s happening last night in Sweden. Sweden! Who would believe this? Sweden! They took in large numbers. They re having problems that they never thought possible. Twitter, meanwhile, is positively gleeful in their mockery of the liar of liars for another egregious lie:@realDonaldTrump  none of which referred to anything that happened two nights ago.  Alex Zalben (@azalben) February 19, 2017.@realDonaldTrump  I apologize. I will hold myself to provide a more clear and accurate respresentation of my beliefs in future speeches.  Will McAvoy (@WillMcAvoyACN) February 19, 2017@realDonaldTrump Hey, dumbass. What happened in Sweden? Nothing. That s what. FAKE NEWS! pic.twitter.com/PR4Cu42mbb  The Socialist Party (@OfficialSPGB) February 19, 2017@realDonaldTrump @FoxNews Of course it fucking was.  Mark Pygas (@MarkPygas) February 19, 2017@realDonaldTrump You said  last night in Sweden . Don t retract. You are fake news for the unintelligent.  Tony Posnanski (@tonyposnanski) February 19, 2017You are fake news, Mr. So-Called President.#swedenincident #iamamuslimtoo #FuckYouBitch https://t.co/MGOL0oWFPs  Jade Helm Commander (@Anomaly100) February 19, 2017.@realDonaldTrump Who needs the intelligence community when there is Fox News?  Simon Hedlin (@simonhedlin) February 19, 2017Here s someone who was a likely witness to the imaginary attack, since reports say Swedish fish were everywhere at the scene:@realDonaldTrump @FoxNews pic.twitter.com/bGk4nMmc5e  Mike Denison (@mikd33) February 19, 2017@mikd33 @realDonaldTrump @FoxNews These fish are clearly terrorists.  Austin Braun (@AustinOnSocial) February 19, 2017@realDonaldTrump @FoxNews pic.twitter.com/dYPgcgHhmo  #TheResistance (@AynRandPaulRyan) February 19, 2017@realDonaldTrump @FoxNews pic.twitter.com/hoF53staXG  #TheResistance (@AynRandPaulRyan) February 19, 2017@realDonaldTrump Also, is @foxandfriends your new National Security Advisor?  Evan Dashevsky (@haldash) February 19, 2017@realDonaldTrump  oh I saw it on TV, people told me this  instead of being responsible for what comes out of his mouth.  Erick Fernandez (@ErickFernandez) February 19, 2017@realDonaldTrump @FoxNews OK time to have a chat again, so tell President Emperor Bannon you need a smoke break. This will take a bit.  Kevin (@TheKevinDent) February 19, 2017@realDonaldTrump So you blindly spout whether @FoxNews tells you to? It s pathetic, not to mention awfully irresponsible, 45.  Mike P Williams (@Mike_P_Williams) February 19, 2017Here s what someone who appears to be in Sweden has to say:@realDonaldTrump @FoxNews There is no migrant crisis in Sweden. We have free health care, free education, a functioning welfare system. ??  Ines Helene (@inihelene) February 19, 2017How embarrassing. You re hopelessly confused. Sad! @realDonaldTrump https://t.co/2mRZAjuj6f  Charles Johnson (@Green_Footballs) February 19, 2017Um @erichmcelroy is @realDonaldTrump now trying to blame @FoxNews? I thought we could trust them!  Mark Machado (@MarkMachado) February 19, 2017 Maybe, just as a change of pace and maybe to keep all of us on our toes, he should actually take responsibility for what he says and apologize. But what are we talking about? Trump is one of the worst pathological liars in the long, sad history of pathological liars.Featured image by Joe Raedle via Getty Images\",\n          \"Tweetwave This time it's true no pantsTweetwave More Of Anthony Weiner's Greatest Hits Users browsing this forum: No registered users and 13 guests Display posts from previous: Powered by phpBB \\u00a9 2000, 2002, 2005, 2007 phpBB Group The uncontested absurdities of today are the accepted slogans of tomorrow. They come to be accepted by degrees, by precedent, by implication, by erosion, by default, by dint of constant pressure on one side and constant retreat on the other - until the day when they are suddenly declared to be the country's official ideology. ~ Ayn Rand\\nRubiks & Rubik\\u2019s Cube \\u00ae used by special individual permission of Seven Town Ltd. Write down this number and report to your Kommissar at the nearest railroad station. Don't forget warm clothes and a shovel! Channel list\\nFollowing hurricane Matthew's failure to devastate Florida, activists flock to the Sunshine State and destroy Trump signs manually\\nTim Kaine takes credit for interrupting hurricane Matthew while debating weather in Florida\\nStudy: Many non-voters still undecided on how they're not going to vote\\nThe Evolution of Dissent: on November 8th the nation is to decide whether dissent will stop being racist and become sexist - or it will once again be patriotic as it was for 8 years under George W. Bush\\nVenezuela solves starvation problem by making it mandatory to buy food\\nBreaking: the Clinton Foundation set to investigate the FBI\\nObama \\u200b\\u200bcaptures rare Pok\\u00e9mon \\u200b\\u200bwhile visiting Hiroshima\\nMovie news: 'The Big Friendly Giant Government' flops at box office; audiences say \\\"It's creepy\\\"\\nBarack Obama: \\\"If I had a son, he'd look like Micah Johnson\\\"\\nWhite House edits Orlando 911 transcript to say shooter pledged allegiance to NRA and Republican Party\\nPresident George Washington: 'Redcoats do not represent British Empire; King George promotes a distorted version of British colonialism'\\nFollowing Obama's 'Okie-Doke' speech , stock of Okie-Doke soars; NASDAQ: 'Obama best Okie-Doke salesman'\\nWeaponized baby formula threatens Planned Parenthood office; ACLU demands federal investigation of Gerber\\nExperts: melting Antarctic glacier could cause sale levels to rise up to 80% off select items by this weekend\\nTravel advisory: airlines now offering flights to front of TSA line\\nAs Obama instructs his administration to get ready for presidential transition, Trump preemptively purchases 'T' keys for White House keyboards\\nJohn Kasich self-identifies as GOP primary winner, demands access to White House bathroom\\nUpcoming Trump/Kelly interview on FoxNews sponsored by 'Let's Make a Deal' and 'The Price is Right'\\nNews from 2017: once the evacuation of Lena Dunham and 90% of other Hollywood celebrities to Canada is confirmed, Trump resigns from presidency: \\\"My work here is done\\\"\\nNon-presidential candidate Paul Ryan pledges not to run for president in new non-presidential non-ad campaign\\nTrump suggests creating 'Muslim database'; Obama symbolically protests by shredding White House guest logs beginning 2009\\nNational Enquirer: John Kasich's real dad was the milkman, not mailman\\nNational Enquirer: Bound delegates from Colorado, Wyoming found in Ted Cruz\\u2019s basement\\nIran breaks its pinky-swear promise not to support terrorism; US State Department vows rock-paper-scissors strategic response\\nWomen across the country cheer as racist Democrat president on $20 bill is replaced by black pro-gun Republican\\nFederal Reserve solves budget crisis by writing itself a 20-trillion-dollar check\\nWidows, orphans claim responsibility for Brussels airport bombing\\nChe Guevara's son hopes Cuba's communism will rub off on US, proposes a long list of people the government should execute first\\nSusan Sarandon: \\\"I don't vote with my vagina.\\\" Voters in line behind her still suspicious, use hand sanitizer\\nCampaign memo typo causes Hillary to court 'New Black Panties' vote\\nNew Hampshire votes for socialist Sanders, changes state motto to \\\"Live FOR Free or Die\\\"\\nMartin O'Malley drops out of race after Iowa Caucus; nation shocked with revelation he has been running for president\\nStatisticians: one out of three Bernie Sanders supporters is just as dumb as the other two\\nHillary campaign denies accusations of smoking-gun evidence in her emails, claims they contain only smoking-circumstantial-gun evidence\\nObama stops short of firing US Congress upon realizing the difficulty of assembling another group of such tractable yes-men\\nIn effort to contol wild passions for violent jihad, White House urges gun owners to keep their firearms covered in gun burkas\\nTV horror live: A Charlie Brown Christmas gets shot up on air by Mohammed cartoons\\nDemocrats vow to burn the country down over Ted Cruz statement, 'The overwhelming majority of violent criminals are Democrats'\\nRussia's trend to sign bombs dropped on ISIS with \\\"This is for Paris\\\" found response in Obama administration's trend to sign American bombs with \\\"Return to sender\\\"\\nUniversity researchers of cultural appropriation quit upon discovery that their research is appropriation from a culture that created universities\\nArcheologists discover remains of what Barack Obama has described as unprecedented, un-American, and not-who-we-are immigration screening process in Ellis Island\\nMizzou protests lead to declaring entire state a \\\"safe space,\\\" changing Missouri motto to \\\"The don't show me state\\\"\\nGreen energy fact: if we put all green energy subsidies together in one-dollar bills and burn them, we could generate more electricity than has been produced by subsidized green energy\\nState officials improve chances of healthcare payouts by replacing ObamaCare with state lottery\\nNASA's new mission to search for racism, sexism, and economic inequality in deep space suffers from race, gender, and class power struggles over multibillion-dollar budget\\nCollege progress enforcement squads issue schematic humor charts so students know if a joke may be spontaneously laughed at or if regulations require other action\\nISIS opens suicide hotline for US teens depressed by climate change and other progressive doomsday scenarios\\nVirginia county to close schools after teacher asks students to write 'death to America' in Arabic\\n'Wear hijab to school day' ends with spontaneous female circumcision and stoning of a classmate during lunch break\\nISIS releases new, even more barbaric video in an effort to regain mantle from Planned Parenthood\\nImpressed by Fox News stellar rating during GOP debates, CNN to use same formula on Democrat candidates asking tough, pointed questions about Republicans\\nShocking new book explores pros and cons of socialism, discovers they are same people\\nPope outraged by Planned Parenthood's \\\"unfettered capitalism,\\\" demands equal redistribution of baby parts to each according to his need\\nJohn Kerry accepts Iran's \\\"Golden Taquiyya\\\" award, requests jalapenos on the side\\nCitizens of Pluto protest US government's surveillance of their planetoid and its moons with New Horizons space drone\\nJohn Kerry proposes 3-day waiting period for all terrorist nations trying to acquire nuclear weapons\\nChicago Police trying to identify flag that caused nine murders and 53 injuries in the city this past weekend\\nCuba opens to affordable medical tourism for Americans who can't afford Obamacare deductibles\\nState-funded research proves existence of Quantum Aggression Particles (Heterons) in Large Hadron Collider\\nStudent job opportunities: make big bucks this summer as Hillary\\u2019s Ordinary-American; all expenses paid, travel, free acting lessons\\nExperts debate whether Iranian negotiators broke John Kerry's leg or he did it himself to get out of negotiations\\nJunior Varsity takes Ramadi, advances to quarterfinals\\nUS media to GOP pool of candidates: 'Knowing what we know now, would you have had anything to do with the founding of the United States?'\\nNY Mayor to hold peace talks with rats, apologize for previous Mayor's cowboy diplomacy\\nChina launches cube-shaped space object with a message to aliens: \\\"The inhabitants of Earth will steal your intellectual property, copy it, manufacture it in sweatshops with slave labor, and sell it back to you at ridiculously low prices\\\"\\nProgressive scientists: Truth is a variable deduced by subtracting 'what is' from 'what ought to be'\\nExperts agree: Hillary Clinton best candidate to lessen percentage of Americans in top 1%\\nAmerica's attempts at peace talks with the White House continue to be met with lies, stalling tactics, and bad faith\\nStarbucks new policy to talk race with customers prompts new hashtag #DontHoldUpTheLine\\nHillary: DELETE is the new RESET\\nCharlie Hebdo receives Islamophobe 2015 award ; the cartoonists could not be reached for comment due to their inexplicable, illogical deaths\\nRussia sends 'reset' button back to Hillary: 'You need it now more than we do'\\nBarack Obama finds out from CNN that Hillary Clinton spent four years being his Secretary of State\\nPresident Obama honors Leonard Nimoy by taking selfie in front of Starship Enterprise\\nPolice: If Obama had a convenience store, it would look like Obama Express Food Market\\nStudy finds stunning lack of racial, gender, and economic diversity among middle-class white males\\nNASA: We're 80% sure about being 20% sure about being 17% sure about being 38% sure about 2014 being the hottest year on record\\nPeople holding '$15 an Hour Now' posters sue Democratic party demanding raise to $15 an hour for rendered professional protesting services\\nCuba-US normalization: US tourists flock to see Cuba before it looks like the US and Cubans flock to see the US before it looks like Cuba\\nWhite House describes attacks on Sony Pictures as 'spontaneous hacking in response to offensive video mocking Juche and its prophet'\\nCIA responds to Democrat calls for transparency by releasing the director's cut of The Making Of Obama's Birth Certificate\\nObama: 'If I had a city, it would look like Ferguson'\\nBiden: 'If I had a Ferguson (hic), it would look like a city'\\nObama signs executive order renaming 'looters' to 'undocumented shoppers'\\nEthicists agree: two wrongs do make a right so long as Bush did it first\\nThe aftermath of the 'War on Women 2014' finds a new 'Lost Generation' of disillusioned Democrat politicians, unable to cope with life out of office\\nWhite House: Republican takeover of the Senate is a clear mandate from the American people for President Obama to rule by executive orders\\nNurse Kaci Hickox angrily tells reporters that she won't change her clocks for daylight savings time\\nDemocratic Party leaders in panic after recent poll shows most Democratic voters think 'midterm' is when to end pregnancy\\nDesperate Democratic candidates plead with Obama to stop backing them and instead support their GOP opponents\\nEbola Czar issues five-year plan with mandatory quotas of Ebola infections per each state based on voting preferences\\nStudy: crony capitalism is to the free market what the Westboro Baptist Church is to Christianity\\nFun facts about world languages: the Left has more words for statism than the Eskimos have for snow\\nAfrican countries to ban all flights from the United States because \\\"Obama is incompetent, it scares us\\\"\\nNobel Peace Prize controversy: Hillary not nominated despite having done even less than Obama to deserve it\\nObama: 'Ebola is the JV of viruses'\\nBREAKING: Secret Service foils Secret Service plot to protect Obama\\nRevised 1st Amendment: buy one speech, get the second free\\nSharpton calls on white NFL players to beat their women in the interests of racial fairness\\nPresident Obama appoints his weekly approval poll as new national security adviser\\nObama wags pen and phone at Putin; Europe offers support with powerful pens and phones from NATO members\\nWhite House pledges to embarrass ISIS back to the Stone Age with a barrage of fearsome Twitter messages and fatally ironic Instagram photos\\nObama to fight ISIS with new federal Terrorist Regulatory Agency\\nObama vows ISIS will never raise their flag over the eighteenth hole\\nHarry Reid: \\\"Sometimes I say the wong thing\\\"\\nElian Gonzalez wishes he had come to the U.S. on a bus from Central America like all the other kids\\nObama visits US-Mexican border, calls for a two-state solution\\nObama draws \\\"blue line\\\" in Iraq after Putin took away his red crayon\\n\\\"Hard Choices,\\\" a porno flick loosely based on Hillary Clinton's memoir and starring Hillary Hellfire as a drinking, whoring Secretary of State, wildly outsells the flabby, sagging original\\nAccusations of siding with the enemy leave Sgt. Bergdahl with only two options: pursue a doctorate at Berkley or become a Senator from Massachusetts\\nJay Carney stuck in line behind Eric Shinseki to leave the White House; estimated wait time from 15 min to 6 weeks\\n100% of scientists agree that if man-made global warming were real, \\\"the last people we'd want to help us is the Obama administration\\\"\\nJay Carney says he found out that Obama found out that he found out that Obama found out that he found out about the latest Obama administration scandal on the news\\n\\\"Anarchy Now!\\\" meeting turns into riot over points of order, bylaws, and whether or not 'kicking the #^@&*! ass' of the person trying to speak is or is not violence\\nObama retaliates against Putin by prohibiting unionized federal employees from dating hot Russian girls online during work hours\\nRussian separatists in Ukraine riot over an offensive YouTube video showing the toppling of Lenin statues\\n\\\"Free Speech Zones\\\" confuse Obamaphone owners who roam streets in search of additional air minutes\\nObamacare bolsters employment for professionals with skills to convert meth back into sudafed\\nGloves finally off: Obama uses pen and phone to cancel Putin's Netflix account\\nJoe Biden to Russia: \\\"We will bury you by turning more of Eastern Europe over to your control!\\\"\\nIn last-ditch effort to help Ukraine, Obama deploys Rev. Sharpton and Rev. Jackson's Rainbow Coalition to Crimea\\nAl Sharpton: \\\"Not even Putin can withstand our signature chanting, 'racist, sexist, anti-gay, Russian army go away'!\\\"\\nMardi Gras in North Korea: \\\" Throw me some food! \\\"\\nObama's foreign policy works: \\\"War, invasion, and conquest are signs of weakness; we've got Putin right where we want him\\\"\\nUS offers military solution to Ukraine crisis: \\\"We will only fight countries that have LGBT military\\\"\\nPutin annexes Brighton Beach to protect ethnic Russians in Brooklyn, Obama appeals to UN and EU for help\\nThe 1980s: \\\"Mr. Obama, we're just calling to ask if you want our foreign policy back . The 1970s are right here with us, and they're wondering, too.\\\"\\nIn a stunning act of defiance, Obama courageously unfriends Putin on Facebook\\nMSNBC: Obama secures alliance with Austro-Hungarian Empire against Russia\\u2019s aggression in Ukraine\\nStudy: springbreak is to STDs what April 15th is to accountants\\nEfforts to achieve moisture justice for California thwarted by unfair redistribution of snow in America\\nNorth Korean voters unanimous: \\\"We are the 100%\\\"\\nLeader of authoritarian gulag-site, The People's Cube, unanimously 're-elected' with 100% voter turnout\\nSuper Bowl: Obama blames Fox News for Broncos' loss\\nFeminist author slams gay marriage: \\\"a man needs a man like a fish needs a bicycle\\\"\\nBeverly Hills campaign heats up between Henry Waxman and Marianne Williamson over the widening income gap between millionaires and billionaires in their district\\nBiden to lower $10,000-a-plate Dinner For The Homeless to $5,000 so more homeless can attend\\nKim becomes world leader, feeds uncle to dogs; Obama eats dogs, becomes world leader, America cries uncle\\nNorth Korean leader executes own uncle for talking about Obamacare at family Christmas party\\nWhite House hires part-time schizophrenic Mandela sign interpreter to help sell Obamacare\\nKim Jong Un executes own \\\" crazy uncle \\\" to keep him from ruining another family Christmas\\nOFA admits its advice for area activists to give Obamacare Talk at shooting ranges was a bad idea\\nPresident resolves Obamacare debacle with executive order declaring all Americans equally healthy\\nObama to Iran: \\\"If you like your nuclear program, you can keep your nuclear program\\\"\\nBovine community outraged by flatulence coming from Washington DC\\nObama: \\\"I'm not particularly ideological; I believe in a good pragmatic five-year plan\\\"\\nShocker: Obama had no knowledge he'd been reelected until he read about it in the local newspaper last week\\nServer problems at HealthCare.gov so bad, it now flashes 'Error 808' message\\nNSA marks National Best Friend Day with official announcement: \\\"Government is your best friend; we know you like no one else, we're always there, we're always willing to listen\\\"\\nAl Qaeda cancels attack on USA citing launch of Obamacare as devastating enough\\nThe President's latest talking point on Obamacare: \\\"I didn't build that\\\"\\nDizzy with success, Obama renames his wildly popular healthcare mandate to HillaryCare\\nCarney: huge ObamaCare deductibles won't look as bad come hyperinflation\\nWashington Redskins drop 'Washington' from their name as offensive to most Americans\\nPoll: 83% of Americans favor cowboy diplomacy over rodeo clown diplomacy\\nGOVERNMENT WARNING: If you were able to complete ObamaCare form online, it wasn't a legitimate gov't website; you should report online fraud and change all your passwords\\nObama administration gets serious, threatens Syria with ObamaCare\\nObama authorizes the use of Vice President Joe Biden's double-barrel shotgun to fire a couple of blasts at Syria\\nSharpton: \\\"British royals should have named baby 'Trayvon.' By choosing 'George' they sided with white Hispanic racist Zimmerman\\\"\\nDNC launches 'Carlos Danger' action figure; proceeds to fund a charity helping survivors of the Republican War on Women\\nNancy Pelosi extends abortion rights to the birds and the bees\\nHubble discovers planetary drift to the left\\nObama: 'If I had a daughter-in-law, she would look like Rachael Jeantel'\\nFISA court rubberstamps statement denying its portrayal as government's rubber stamp\\nEvery time ObamaCare gets delayed, a Julia somewhere dies\\nGOP to Schumer: 'Force full implementation of ObamaCare before 2014 or Dems will never win another election'\\nObama: 'If I had a son... no, wait, my daughter can now marry a woman!'\\nJanet Napolitano: TSA findings reveal that since none of the hijackers were babies, elderly, or Tea Partiers, 9/11 was not an act of terrorism\\nNews Flash: Sen. Mary Landrieu (D-LA) can see Canada from South Dakota\\nSusan Rice: IRS actions against tea parties caused by anti-tax YouTube video that was insulting to their faith\\nDrudge Report reduces font to fit all White House scandals onto one page\\nObama: the IRS is a constitutional right, just like the Second Amendment\\nWhite House: top Obama officials using secret email accounts a result of bad IT advice to avoid spam mail from Nigeria\\nJay Carney to critics: 'Pinocchio never said anything inconsistent'\\nObama: If I had a gay son, he'd look like Jason Collins\\nGosnell's office in Benghazi raided by the IRS: mainstream media's worst cover-up challenge to date\\nIRS targeting pro-gay-marriage LGBT groups leads to gayest tax revolt in U.S. history\\nAfter Arlington Cemetery rejects offer to bury Boston bomber, Westboro Babtist Church steps up with premium front lawn plot\\nBoston: Obama Administration to reclassify marathon bombing as 'sportsplace violence'\\nStudy: Success has many fathers but failure becomes a government program\\nUS Media: Can Pope Francis possibly clear up Vatican bureaucracy and banking without blaming the previous administration?\\nMichelle Obama praises weekend rampage by Chicago teens as good way to burn calories and stay healthy\\nThis Passover, Obama urges his subjects to paint lamb's blood above doors in order to avoid the Sequester\\nWhite House to American children: Sequester causes layoffs among hens that lay Easter eggs; union-wage Easter Bunnies to be replaced by Mexican Chupacabras\\nTime Mag names Hugo Chavez world's sexiest corpse\\nBoy, 8, pretends banana is gun, makes daring escape from school\\nStudy: Free lunches overpriced, lack nutrition\\nOscars 2013: Michelle Obama announces long-awaited merger of Hollywood and the State\\nJoe Salazar defends the right of women to be raped in gun-free environment: 'rapists and rapees should work together to prevent gun violence for the common good'\\nDept. of Health and Human Services eliminates rape by reclassifying assailants as 'undocumented sex partners'\\nKremlin puts out warning not to photoshop Putin riding meteor unless bare-chested\\nDeeming football too violent, Obama moves to introduce Super Drone Sundays instead\\nJapan offers to extend nuclear umbrella to cover U.S. should America suffer devastating attack on its own defense spending\\nFeminists organize one billion women to protest male oppression with one billion lap dances\\nUrban community protests Mayor Bloomberg's ban on extra-large pop singers owning assault weapons\\nConcerned with mounting death toll, Taliban offers to send peacekeeping advisers to Chicago\\nKarl Rove puts an end to Tea Party with new 'Republicans For Democrats' strategy aimed at losing elections\\nAnswering public skepticism, President Obama authorizes unlimited drone attacks on all skeet targets throughout the country\\nSkeet Ulrich denies claims he had been shot by President but considers changing his name to 'Traps'\\nWhite House releases new exciting photos of Obama standing, sitting, looking thoughtful, and even breathing in and out\\nNew York Times hacked by Chinese government, Paul Krugman's economic policies stolen\\nWhite House: when President shoots skeet, he donates the meat to food banks that feed the middle class\\nTo prove he is serious, Obama eliminates armed guard protection for President, Vice-President, and their families; establishes Gun-Free Zones around them instead\\nState Dept to send 100,000 American college students to China as security for US debt obligations\\nJay Carney: Al Qaeda is on the run, they're just running forward\\nPresident issues executive orders banning cliffs, ceilings, obstructions, statistics, and other notions that prevent us from moving forwards and upward\\nFearing the worst, Obama Administration outlaws the fan to prevent it from being hit by certain objects\\nWorld ends; S&P soars\\nRiddle of universe solved; answer not understood\\nMeek inherit Earth, can't afford estate taxes\\nGreece abandons Euro; accountants find Greece has no Euros anyway\\nWheel finally reinvented; axles to be gradually reinvented in 3rd quarter of 2013\\nBigfoot found in Ohio, mysteriously not voting for Obama\\nAs Santa's workshop files for bankruptcy, Fed offers bailout in exchange for control of 'naughty and nice' list\\nFreak flying pig accident causes bacon to fly off shelves\\nObama: green economy likely to transform America into a leading third world country of the new millennium\\nReport: President Obama to visit the United States in the near future\\nObama promises to create thousands more economically neutral jobs\\nModernizing Islam: New York imam proposes to canonize Saul Alinsky as religion's latter day prophet\\nImam Rauf's peaceful solution: 'Move Ground Zero a few blocks away from the mosque and no one gets hurt'\\nStudy: Obama's threat to burn tax money in Washington 'recruitment bonanza' for Tea Parties\\nStudy: no Social Security reform will be needed if gov't raises retirement age to at least 814 years\\nObama attends church service, worships self\\nObama proposes national 'Win The Future' lottery; proceeds of new WTF Powerball to finance more gov't spending\\nHistorical revisionists: \\\"Hey, you never know\\\"\\nVice President Biden: criticizing Egypt is un-pharaoh\\nIsraelis to Egyptian rioters: \\\"don't damage the pyramids, we will not rebuild\\\"\\nLake Superior renamed Lake Inferior in spirit of tolerance and inclusiveness\\nAl Gore: It's a shame that a family can be torn apart by something as simple as a pack of polar bears\\nMichael Moore: As long as there is anyone with money to shake down, this country is not broke\\nObama's teleprompters unionize, demand collective bargaining rights\\nObama calls new taxes 'spending reductions in tax code.' Elsewhere rapists tout 'consent reductions in sexual intercourse'\\nObama's teleprompter unhappy with White House Twitter: \\\"Too few words\\\"\\nObama's Regulation Reduction committee finds US Constitution to be expensive outdated framework inefficiently regulating federal gov't\\nTaking a page from the Reagan years, Obama announces new era of Perestroika and Glasnost\\nResponding to Oslo shootings, Obama declares Christianity \\\"Religion of Peace,\\\" praises \\\"moderate Christians,\\\" promises to send one into space\\nRepublicans block Obama's $420 billion program to give American families free charms that ward off economic bad luck\\nWhite House to impose Chimney tax on Santa Claus\\nObama decrees the economy is not soaring as much as previously decreeed\\nConservative think tank introduces children to capitalism with pop-up picture book \\\"The Road to Smurfdom\\\"\\nAl Gore proposes to combat Global Warming by extracting silver linings from clouds in Earth's atmosphere\\nObama refutes charges of him being unresponsive to people's suffering: \\\"When you pray to God, do you always hear a response?\\\"\\nObama regrets the US government didn't provide his mother with free contraceptives when she was in college\\nFluke to Congress: drill, baby, drill!\\nPlanned Parenthood introduces Frequent Flucker reward card: 'Come again soon!'\\nObama to tornado victims: 'We inherited this weather from the previous administration'\\nObama congratulates Putin on Chicago-style election outcome\\nPeople's Cube gives itself Hero of Socialist Labor medal in recognition of continued expert advice provided to the Obama Administration helping to shape its foreign and domestic policies\\nHamas: Israeli air defense unfair to 99% of our missiles, \\\"only 1% allowed to reach Israel\\\"\\nDemocrat strategist: without government supervision, women would have never evolved into humans\\nVoters Without Borders oppose Texas new voter ID law\\nEnraged by accusation that they are doing Obama's bidding, media leaders demand instructions from White House on how to respond\\nObama blames previous Olympics for failure to win at this Olympics\\nOfficial: China plans to land on Moon or at least on cheap knockoff thereof\\nKoran-Contra: Obama secretly arms Syrian rebels\\nPoll: Progressive slogan 'We should be more like Europe' most popular with members of American Nazi Party\\nObama to Evangelicals: Jesus saves, I just spend\\nMay Day: Anarchists plan, schedule, synchronize, and execute a coordinated campaign against all of the above\\nMidwestern farmers hooked on new erotic novel \\\"50 Shades of Hay\\\"\\nStudy: 99% of Liberals give the rest a bad name\\nObama meets with Jewish leaders, proposes deeper circumcisions for the rich\\nHistorians: Before HOPE & CHANGE there was HEMP & CHOOM at ten bucks a bag\\nCancer once again fails to cure Venezuela of its \\\"President for Life\\\"\\nTragic spelling error causes Muslim protesters to burn local boob-tube factory\\nSecretary of Energy Steven Chu: due to energy conservation, the light at the end of the tunnel will be switched off\\nObama Administration running food stamps across the border with Mexico in an operation code-named \\\"Fat And Furious\\\"\\nPakistan explodes in protest over new Adobe Acrobat update; 17 local acrobats killed\\nWhite House: \\\"Let them eat statistics\\\"\\nSpecial Ops: if Benedict Arnold had a son, he would look like Barack Obama\"\n        ],\n        \"semantic_type\": \"\",\n        \"description\": \"\"\n      }\n    },\n    {\n      \"column\": \"clean_list\",\n      \"properties\": {\n        \"dtype\": \"string\",\n        \"num_unique_values\": 62811,\n        \"samples\": [\n          \"['clinton', 'goes', 'loretta', 'lynch', 'loretta', 'loretta', 'lynch', 'shaking', 'boots', 'right', 'hillary', 'clinton', 'goes', 'lynch', 'career', 'heck', 'maybe', 'cellmates', 'loretta', 'lynch', 'ties', 'clintons', 'president', 'clinton', 'appointed', 'brooklyn', 'attorney', 'office', 'left', 'went', 'private', 'practice', 'returned', 'brooklyn', 'office', 'behest', 'president', 'barack', 'obama', 'official', 'sworn', 'attorney', 'general', 'united', 'states', 'taking', 'place', 'blatantly', 'corrupt', 'attorney', 'general', 'eric', 'holder', 'probably', 'famous', 'roles', 'fast', 'furious', 'operation', 'inciting', 'racial', 'tensions', 'mishandling', 'lois', 'lerner', 'debacle', 'secret', 'airplane', 'meeting', 'clinton', 'started', 'publicly', 'downhill', 'lynch', 'investigation', 'hillary', 'clinton', 'carelessness', 'national', 'secrets', 'home', 'email', 'server', 'right', 'director', 'james', 'comey', 'meet', 'hillary', 'clinton', 'interrogate', 'subject', 'lynch', 'busted', 'secret', 'meeting', 'clinton', 'washington', 'post', 'reported', 'clinton', 'private', 'unplanned', 'meeting', 'attorney', 'general', 'loretta', 'lynch', 'phoenix', 'airport', 'week', 'coming', 'time', 'justice', 'department', 'nearing', 'completion', 'examination', 'hillary', 'clinton', 'private', 'server', 'emails', 'secretary', 'state', 'inevitably', 'negatively', 'affect', 'public', 'attitudes', 'investigation', 'lynch', 'tried', 'amends', 'leaving', 'confusion', 'wake', 'conversation', 'friday', 'washington', 'post', 'editorial', 'writer', 'jonathan', 'capehart', 'aspen', 'ideas', 'festival', 'insisted', 'conversation', 'innocent', 'grandchildren', 'golf', 'touch', 'investigation', 'emails', 'said', 'recognized', 'fact', 'meeting', 'casting', 'shadow', 'people', 'going', 'view', 'work', 'seriously', 'deeply', 'painfully', 'said', 'lynch', 'said', 'accepting', 'recommendation', 'career', 'prosecutors', 'director', 'james', 'comey', 'bring', 'remove', 'completely', 'case', 'said', 'decision', 'months', 'making', 'public', 'course', 'easier', 'lynch', 'abide', 'decision', 'comey', 'miraculously', 'hillary', 'clinton', 'criminal', 'negligence', 'national', 'secrets', 'people', 'asking', 'questions', 'founded', 'meeting', 'judicial', 'watch', 'filed', 'lawsuit', 'records', 'related', 'illicit', 'meeting', 'attorney', 'general', 'lynch', 'president', 'clinton', 'june', 'attorney', 'general', 'loretta', 'lynch', 'reported', 'privately', 'president', 'clinton', 'board', 'parked', 'private', 'plane', 'harbor', 'international', 'airport', 'phoenix', 'arizona', 'meeting', 'occurred', 'ongoing', 'investigation', 'clinton', 'email', 'server', 'mere', 'hours', 'benghazi', 'report', 'released', 'publicly', 'involving', 'clinton', 'obama', 'administration', 'judicial', 'watch', 'filed', 'request', 'june', 'department', 'justice', 'office', 'inspector', 'general', 'investigate', 'meeting', 'republican', 'presidential', 'nominee', 'donald', 'trump', 'suggested', 'meeting', 'clinton', 'offered', 'extend', 'lynch', 'position', 'office', 'hillary', 'clinton', 'administration', 'blocked', 'congressional', 'investigation', 'notorious', 'iranian', 'ransom', 'payment', 'week', 'lynch', 'blocked', 'congressional', 'investigation', 'cash', 'payments', 'obama', 'administration', 'iran', 'pleading', 'fifth', 'washington', 'free', 'beacon', 'reported', 'attorney', 'general', 'loretta', 'lynch', 'declining', 'comply', 'investigation', 'leading', 'members', 'congress', 'obama', 'administration', 'secret', 'efforts', 'send', 'iran', 'billion', 'cash', 'earlier', 'year', 'prompting', 'accusations', 'lynch', 'pleaded', 'fifth', 'amendment', 'avoid', 'incriminating', 'payments', 'according', 'lawmakers', 'communications', 'exclusively', 'obtained', 'washington', 'free', 'beacon', 'frankly', 'unacceptable', 'department', 'refuses', 'answer', 'straightforward', 'questions', 'people', 'elected', 'representatives', 'congress', 'important', 'national', 'security', 'issue', 'lawmakers', 'wrote', 'staff', 'failed', 'address', 'questions', 'instead', 'provided', 'copy', 'public', 'testimony', 'lecture', 'sensitivity', 'information', 'associated', 'issue', 'united', 'states', 'chief', 'enforcement', 'officer', 'outrageous', 'essentially', 'plead', 'fifth', 'refuse', 'respond', 'inquiries', 'stated', 'actions', 'department', 'come', 'time', 'iran', 'continues', 'hold', 'americans', 'hostage', 'unjustly', 'sentence', 'prison', 'judicial', 'lynch', 'tried', 'shut', 'comey', 'investigation', 'clinton', 'emails', 'mainstream', 'media', 'turn', 'head', 'earlier', 'wrote', 'fact', 'director', 'james', 'comey', 'decision', 'public', 'investigation', 'hillary', 'clinton', 'emails', 'talk', 'little', 'lynch', 'desperate', 'attempts', 'shut', 'york', 'times', 'reported', 'justice', 'department', 'strongly', 'discouraged', 'comey', 'releasing', 'information', 'director', 'james', 'comey', 'sent', 'letter', 'congress', 'announcing', 'evidence', 'discovered', 'related', 'completed', 'hillary', 'clinton', 'email', 'investigation', 'justice', 'department', 'strongly', 'discouraged', 'step', 'told', 'breaking', 'longstanding', 'policy', 'enforcement', 'officials', 'said', 'saturday', 'senior', 'justice', 'department', 'officials', 'stop', 'sending', 'letter', 'officials', 'said', 'short', 'pointing', 'policies', 'talking', 'current', 'criminal', 'investigations', 'seen', 'meddling', 'elections', 'interesting', 'seen', 'influencing', 'election', 'investigate', 'investigated', 'charged', 'sure', 'exactly', 'works', 'according', 'today', 'emphasis', 'federal', 'official', 'familiar', 'comey', 'decision', 'said', 'saturday', 'director', 'considered', 'attorney', 'general', 'advice', 'spirited', 'discussion', 'matter', 'thursday', 'early', 'friday', 'felt', 'compelled', 'remember', 'janet', 'reno', 'poor', 'janet', 'attorney', 'general', 'went', 'clintons', 'sworn', 'clinton', 'questioned', 'appointment', 'time', 'according', 'report', 'chicago', 'tribune', 'arrived', 'washington', 'miami', 'caesar', 'wife', 'remained', 'ignorant', 'independent', 'insider', 'stayed', 'clinton', 'liked', 'confided', 'reciprocated', 'time', 'fall', 'debacle', 'waco', 'actually', 'according', 'history', 'waco', 'standoff', 'begun', 'time', 'janet', 'reno', 'female', 'attorney', 'general', 'march', 'approved', 'tear', 'plan', 'following', 'month', 'explaining', 'negotiations', 'branch', 'davidians', 'stalemated', 'children', 'inside', 'compound', 'risk', 'know', 'better', 'solution', 'reno', 'said', 'involved', 'best', 'judgments', 'based', 'information', 'nonetheless', 'republican', 'congressional', 'report', 'called', 'decision', 'premature', 'wrong', 'highly', 'irresponsible', 'criticized', 'facts', 'emerged', 'contradicting', 'earlier', 'statements', 'tribune', 'post', 'continued', 'discuss', 'reno', 'position', 'scapegoat', 'took', 'office', 'supervising', 'probe', 'embarrassing', 'clinton', 'whitewater', 'fundraising', 'lewinsky', 'china', 'espionage', 'clinton', 'afford', 'political', 'beating', 'cashiered', 'attorney', 'general', 'survived', 'clinton', 'scandals', 'survived', 'reputation', 'department', 'intact', 'attorney', 'generals', 'clintons', 'fare', 'embroiled', 'clinton', 'scandals', 'pulled', 'mire', 'regardless', 'intentions', 'started', 'lynch', 'future', 'help', 'wanted', 'time', 'lynch', 'involved', 'clinton', 'email', 'kerfuffle', 'promised', 'abide', 'director', 'james', 'comey', 'recommendation', 'wonder', 'promise', 'time', 'complicit', 'clintons', 'time', 'time', 'decried', 'comey', 'release', 'information', 'investigation', 'wonder', 'hillary', 'clinton', 'able', 'adjoining', 'cells', 'truth', 'comes', 'delivered', 'daily', 'sheeple', 'encourage', 'share', 'republish', 'reports', 'analyses', 'breaking', 'news', 'videos', 'click', 'details', 'contributed', 'daisy', 'luther', 'daisyluther']\",\n          \"['believe', 'racist', 'image', 'trump', 'tweeted', 'megyn', 'kelly', 'image', 'donald', 'trump', 'known', 'controversial', 'racist', 'comments', 'continues', 'unrelenting', 'latest', 'feud', 'news', 'specifically', 'megyn', 'kelly', 'trump', 'tweeted', 'image', 'kelly', 'meeting', 'saudi', 'prince', 'woman', 'dressed', 'niqab', 'drudge_report_', 'realdonaldtrump', 'twitter', 'yjqszw', 'brad', 'bradcross', 'january', 'probably', 'guess', 'image', 'fake', 'retweeted', 'trump', 'unapologetic', 'racist', 'tweeted', 'images', 'michelle', 'obama', 'monkey', 'trump', 'care', 'gets', 'information', 'past', 'retweeted', 'white', 'supremacists', 'including', 'fans', 'adolf', 'hitler', 'promoted', 'fake', 'crime', 'statistics', 'fabricated', 'nazis', 'later', 'defended', 'credible', 'latest', 'racist', 'tweet', 'trump', 'best', 'play', 'fears', 'individuals', 'time', 'like', 'times', 'islam', 'vehicle', 'called', 'banning', 'muslims', 'entering', 'united', 'states', 'stood', 'muslim', 'woman', 'kicked', 'rallies', 'simply', 'muslim', 'attacked', 'religion', 'followers', 'point', 'surge', 'anti', 'muslim', 'hate', 'crimes', 'country', 'comments', 'fake', 'image', 'megyn', 'kelly', 'designed', 'associate', 'kelly', 'islam', 'muslims', 'trump', 'racist', 'associates', 'warped', 'minds', 'means', 'terrible', 'american', 'trump', 'disturbing', 'disgusting', 'individual', 'appeals', 'folks', 'like', 'hope', 'said', 'terms', 'elections', 'look', 'reminisce', 'joke', 'donald', 'trump', 'running', 'president', 'united', 'states', 'featured', 'image', 'wikimedia', 'commons']\"\n        ],\n        \"semantic_type\": \"\",\n        \"description\": \"\"\n      }\n    },\n    {\n      \"column\": \"clean_text\",\n      \"properties\": {\n        \"dtype\": \"string\",\n        \"num_unique_values\": 62811,\n        \"samples\": [\n          \"clinton goes loretta lynch loretta loretta lynch shaking boots right hillary clinton goes lynch career heck maybe cellmates loretta lynch ties clintons president clinton appointed brooklyn attorney office left went private practice returned brooklyn office behest president barack obama official sworn attorney general united states taking place blatantly corrupt attorney general eric holder probably famous roles fast furious operation inciting racial tensions mishandling lois lerner debacle secret airplane meeting clinton started publicly downhill lynch investigation hillary clinton carelessness national secrets home email server right director james comey meet hillary clinton interrogate subject lynch busted secret meeting clinton washington post reported clinton private unplanned meeting attorney general loretta lynch phoenix airport week coming time justice department nearing completion examination hillary clinton private server emails secretary state inevitably negatively affect public attitudes investigation lynch tried amends leaving confusion wake conversation friday washington post editorial writer jonathan capehart aspen ideas festival insisted conversation innocent grandchildren golf touch investigation emails said recognized fact meeting casting shadow people going view work seriously deeply painfully said lynch said accepting recommendation career prosecutors director james comey bring remove completely case said decision months making public course easier lynch abide decision comey miraculously hillary clinton criminal negligence national secrets people asking questions founded meeting judicial watch filed lawsuit records related illicit meeting attorney general lynch president clinton june attorney general loretta lynch reported privately president clinton board parked private plane harbor international airport phoenix arizona meeting occurred ongoing investigation clinton email server mere hours benghazi report released publicly involving clinton obama administration judicial watch filed request june department justice office inspector general investigate meeting republican presidential nominee donald trump suggested meeting clinton offered extend lynch position office hillary clinton administration blocked congressional investigation notorious iranian ransom payment week lynch blocked congressional investigation cash payments obama administration iran pleading fifth washington free beacon reported attorney general loretta lynch declining comply investigation leading members congress obama administration secret efforts send iran billion cash earlier year prompting accusations lynch pleaded fifth amendment avoid incriminating payments according lawmakers communications exclusively obtained washington free beacon frankly unacceptable department refuses answer straightforward questions people elected representatives congress important national security issue lawmakers wrote staff failed address questions instead provided copy public testimony lecture sensitivity information associated issue united states chief enforcement officer outrageous essentially plead fifth refuse respond inquiries stated actions department come time iran continues hold americans hostage unjustly sentence prison judicial lynch tried shut comey investigation clinton emails mainstream media turn head earlier wrote fact director james comey decision public investigation hillary clinton emails talk little lynch desperate attempts shut york times reported justice department strongly discouraged comey releasing information director james comey sent letter congress announcing evidence discovered related completed hillary clinton email investigation justice department strongly discouraged step told breaking longstanding policy enforcement officials said saturday senior justice department officials stop sending letter officials said short pointing policies talking current criminal investigations seen meddling elections interesting seen influencing election investigate investigated charged sure exactly works according today emphasis federal official familiar comey decision said saturday director considered attorney general advice spirited discussion matter thursday early friday felt compelled remember janet reno poor janet attorney general went clintons sworn clinton questioned appointment time according report chicago tribune arrived washington miami caesar wife remained ignorant independent insider stayed clinton liked confided reciprocated time fall debacle waco actually according history waco standoff begun time janet reno female attorney general march approved tear plan following month explaining negotiations branch davidians stalemated children inside compound risk know better solution reno said involved best judgments based information nonetheless republican congressional report called decision premature wrong highly irresponsible criticized facts emerged contradicting earlier statements tribune post continued discuss reno position scapegoat took office supervising probe embarrassing clinton whitewater fundraising lewinsky china espionage clinton afford political beating cashiered attorney general survived clinton scandals survived reputation department intact attorney generals clintons fare embroiled clinton scandals pulled mire regardless intentions started lynch future help wanted time lynch involved clinton email kerfuffle promised abide director james comey recommendation wonder promise time complicit clintons time time decried comey release information investigation wonder hillary clinton able adjoining cells truth comes delivered daily sheeple encourage share republish reports analyses breaking news videos click details contributed daisy luther daisyluther\",\n          \"believe racist image trump tweeted megyn kelly image donald trump known controversial racist comments continues unrelenting latest feud news specifically megyn kelly trump tweeted image kelly meeting saudi prince woman dressed niqab drudge_report_ realdonaldtrump twitter yjqszw brad bradcross january probably guess image fake retweeted trump unapologetic racist tweeted images michelle obama monkey trump care gets information past retweeted white supremacists including fans adolf hitler promoted fake crime statistics fabricated nazis later defended credible latest racist tweet trump best play fears individuals time like times islam vehicle called banning muslims entering united states stood muslim woman kicked rallies simply muslim attacked religion followers point surge anti muslim hate crimes country comments fake image megyn kelly designed associate kelly islam muslims trump racist associates warped minds means terrible american trump disturbing disgusting individual appeals folks like hope said terms elections look reminisce joke donald trump running president united states featured image wikimedia commons\"\n        ],\n        \"semantic_type\": \"\",\n        \"description\": \"\"\n      }\n    }\n  ]\n}"
            }
          },
          "metadata": {},
          "execution_count": 16
        }
      ]
    },
    {
      "cell_type": "code",
      "source": [
        "# Now let us two different datasets for fake and real news.Within the dataset 1=real and 0=fake news.\n",
        "real = dataset[dataset['label']==1]\n",
        "fake = dataset[dataset['label']==0]\n",
        "print(\"size of real dataset: {}\".format(real.shape))\n",
        "print(\"size of fake dataset: {}\".format(fake.shape))"
      ],
      "metadata": {
        "colab": {
          "base_uri": "https://localhost:8080/"
        },
        "id": "vkRrA-p2zktq",
        "outputId": "62c2432e-97d6-49fd-e13a-e0f78d4ee7cb"
      },
      "execution_count": null,
      "outputs": [
        {
          "output_type": "stream",
          "name": "stdout",
          "text": [
            "size of real dataset: (36509, 6)\n",
            "size of fake dataset: (35028, 6)\n"
          ]
        }
      ]
    },
    {
      "cell_type": "code",
      "source": [
        "from tensorflow.keras.preprocessing.text import Tokenizer\n",
        "from tensorflow.keras.preprocessing.sequence import pad_sequences\n",
        "from sklearn.model_selection import train_test_split\n",
        "import numpy as np\n",
        "\n",
        "# Define the input data\n",
        "x = dataset['clean_text'].values.tolist()  # Convert to a list of strings\n",
        "y = dataset['label'].values  # Labels\n",
        "\n",
        "# Tokenization\n",
        "total_words = 10000  # Limit to top 10,000 words\n",
        "tokenizer = Tokenizer(num_words=total_words)\n",
        "tokenizer.fit_on_texts(x)  # Fit on the entire text data\n",
        "\n",
        "# Convert texts to sequences of integers\n",
        "x_sequences = tokenizer.texts_to_sequences(x)\n",
        "\n",
        "# Padding sequences to ensure uniform length\n",
        "max_len_of_news = 200  # Set a fixed length for padding\n",
        "x_padded = pad_sequences(x_sequences, maxlen=max_len_of_news, padding='post', truncating='post')\n",
        "\n",
        "# Splitting the data into training and test sets\n",
        "x_train, x_test, y_train, y_test = train_test_split(x_padded, y, test_size=0.2, random_state=42, shuffle=True)\n",
        "\n",
        "# Convert labels to numpy arrays\n",
        "y_train = np.array(y_train)\n",
        "y_test = np.array(y_test)\n",
        "\n",
        "print(f\"Training data shape: {x_train.shape}\")\n",
        "print(f\"Test data shape: {x_test.shape}\")"
      ],
      "metadata": {
        "colab": {
          "base_uri": "https://localhost:8080/"
        },
        "id": "wv8Gg-JkymZb",
        "outputId": "865d84dd-d0c7-405b-d372-a386cdce9823"
      },
      "execution_count": null,
      "outputs": [
        {
          "output_type": "stream",
          "name": "stdout",
          "text": [
            "Training data shape: (57229, 200)\n",
            "Test data shape: (14308, 200)\n"
          ]
        }
      ]
    },
    {
      "cell_type": "code",
      "source": [
        "from tensorflow.keras.models import Sequential\n",
        "from tensorflow.keras.layers import Embedding, Bidirectional, LSTM, Dense, Dropout, Input\n",
        "\n",
        "# Define the model\n",
        "model = Sequential()\n",
        "model.add(Input(shape=(max_len_of_news,)))\n",
        "model.add(Embedding(input_dim=total_words, output_dim=12))  # Use total_words as the input dimension\n",
        "model.add(Bidirectional(LSTM(12, return_sequences=True)))\n",
        "model.add(Dropout(0.3))\n",
        "model.add(Bidirectional(LSTM(12)))\n",
        "model.add(Dropout(0.3))\n",
        "model.add(Dense(24, activation='relu'))\n",
        "model.add(Dropout(0.3))\n",
        "model.add(Dense(12, activation='relu'))\n",
        "model.add(Dense(1, activation=\"sigmoid\"))\n",
        "\n",
        "# Compile the model\n",
        "model.compile(optimizer='adam', loss='binary_crossentropy', metrics=['accuracy'])\n",
        "\n",
        "# Summary of the model\n",
        "model.summary()"
      ],
      "metadata": {
        "colab": {
          "base_uri": "https://localhost:8080/",
          "height": 417
        },
        "id": "n-yPdOmXzaRE",
        "outputId": "5d6809ad-1af4-4e36-f64c-955b680d625f"
      },
      "execution_count": null,
      "outputs": [
        {
          "output_type": "display_data",
          "data": {
            "text/plain": [
              "\u001b[1mModel: \"sequential_2\"\u001b[0m\n"
            ],
            "text/html": [
              "<pre style=\"white-space:pre;overflow-x:auto;line-height:normal;font-family:Menlo,'DejaVu Sans Mono',consolas,'Courier New',monospace\"><span style=\"font-weight: bold\">Model: \"sequential_2\"</span>\n",
              "</pre>\n"
            ]
          },
          "metadata": {}
        },
        {
          "output_type": "display_data",
          "data": {
            "text/plain": [
              "┏━━━━━━━━━━━━━━━━━━━━━━━━━━━━━━━━━━━━━━┳━━━━━━━━━━━━━━━━━━━━━━━━━━━━━┳━━━━━━━━━━━━━━━━━┓\n",
              "┃\u001b[1m \u001b[0m\u001b[1mLayer (type)                        \u001b[0m\u001b[1m \u001b[0m┃\u001b[1m \u001b[0m\u001b[1mOutput Shape               \u001b[0m\u001b[1m \u001b[0m┃\u001b[1m \u001b[0m\u001b[1m        Param #\u001b[0m\u001b[1m \u001b[0m┃\n",
              "┡━━━━━━━━━━━━━━━━━━━━━━━━━━━━━━━━━━━━━━╇━━━━━━━━━━━━━━━━━━━━━━━━━━━━━╇━━━━━━━━━━━━━━━━━┩\n",
              "│ embedding_1 (\u001b[38;5;33mEmbedding\u001b[0m)              │ (\u001b[38;5;45mNone\u001b[0m, \u001b[38;5;34m200\u001b[0m, \u001b[38;5;34m12\u001b[0m)             │         \u001b[38;5;34m120,000\u001b[0m │\n",
              "├──────────────────────────────────────┼─────────────────────────────┼─────────────────┤\n",
              "│ bidirectional_2 (\u001b[38;5;33mBidirectional\u001b[0m)      │ (\u001b[38;5;45mNone\u001b[0m, \u001b[38;5;34m200\u001b[0m, \u001b[38;5;34m24\u001b[0m)             │           \u001b[38;5;34m2,400\u001b[0m │\n",
              "├──────────────────────────────────────┼─────────────────────────────┼─────────────────┤\n",
              "│ dropout_3 (\u001b[38;5;33mDropout\u001b[0m)                  │ (\u001b[38;5;45mNone\u001b[0m, \u001b[38;5;34m200\u001b[0m, \u001b[38;5;34m24\u001b[0m)             │               \u001b[38;5;34m0\u001b[0m │\n",
              "├──────────────────────────────────────┼─────────────────────────────┼─────────────────┤\n",
              "│ bidirectional_3 (\u001b[38;5;33mBidirectional\u001b[0m)      │ (\u001b[38;5;45mNone\u001b[0m, \u001b[38;5;34m24\u001b[0m)                  │           \u001b[38;5;34m3,552\u001b[0m │\n",
              "├──────────────────────────────────────┼─────────────────────────────┼─────────────────┤\n",
              "│ dropout_4 (\u001b[38;5;33mDropout\u001b[0m)                  │ (\u001b[38;5;45mNone\u001b[0m, \u001b[38;5;34m24\u001b[0m)                  │               \u001b[38;5;34m0\u001b[0m │\n",
              "├──────────────────────────────────────┼─────────────────────────────┼─────────────────┤\n",
              "│ dense_3 (\u001b[38;5;33mDense\u001b[0m)                      │ (\u001b[38;5;45mNone\u001b[0m, \u001b[38;5;34m24\u001b[0m)                  │             \u001b[38;5;34m600\u001b[0m │\n",
              "├──────────────────────────────────────┼─────────────────────────────┼─────────────────┤\n",
              "│ dropout_5 (\u001b[38;5;33mDropout\u001b[0m)                  │ (\u001b[38;5;45mNone\u001b[0m, \u001b[38;5;34m24\u001b[0m)                  │               \u001b[38;5;34m0\u001b[0m │\n",
              "├──────────────────────────────────────┼─────────────────────────────┼─────────────────┤\n",
              "│ dense_4 (\u001b[38;5;33mDense\u001b[0m)                      │ (\u001b[38;5;45mNone\u001b[0m, \u001b[38;5;34m12\u001b[0m)                  │             \u001b[38;5;34m300\u001b[0m │\n",
              "├──────────────────────────────────────┼─────────────────────────────┼─────────────────┤\n",
              "│ dense_5 (\u001b[38;5;33mDense\u001b[0m)                      │ (\u001b[38;5;45mNone\u001b[0m, \u001b[38;5;34m1\u001b[0m)                   │              \u001b[38;5;34m13\u001b[0m │\n",
              "└──────────────────────────────────────┴─────────────────────────────┴─────────────────┘\n"
            ],
            "text/html": [
              "<pre style=\"white-space:pre;overflow-x:auto;line-height:normal;font-family:Menlo,'DejaVu Sans Mono',consolas,'Courier New',monospace\">┏━━━━━━━━━━━━━━━━━━━━━━━━━━━━━━━━━━━━━━┳━━━━━━━━━━━━━━━━━━━━━━━━━━━━━┳━━━━━━━━━━━━━━━━━┓\n",
              "┃<span style=\"font-weight: bold\"> Layer (type)                         </span>┃<span style=\"font-weight: bold\"> Output Shape                </span>┃<span style=\"font-weight: bold\">         Param # </span>┃\n",
              "┡━━━━━━━━━━━━━━━━━━━━━━━━━━━━━━━━━━━━━━╇━━━━━━━━━━━━━━━━━━━━━━━━━━━━━╇━━━━━━━━━━━━━━━━━┩\n",
              "│ embedding_1 (<span style=\"color: #0087ff; text-decoration-color: #0087ff\">Embedding</span>)              │ (<span style=\"color: #00d7ff; text-decoration-color: #00d7ff\">None</span>, <span style=\"color: #00af00; text-decoration-color: #00af00\">200</span>, <span style=\"color: #00af00; text-decoration-color: #00af00\">12</span>)             │         <span style=\"color: #00af00; text-decoration-color: #00af00\">120,000</span> │\n",
              "├──────────────────────────────────────┼─────────────────────────────┼─────────────────┤\n",
              "│ bidirectional_2 (<span style=\"color: #0087ff; text-decoration-color: #0087ff\">Bidirectional</span>)      │ (<span style=\"color: #00d7ff; text-decoration-color: #00d7ff\">None</span>, <span style=\"color: #00af00; text-decoration-color: #00af00\">200</span>, <span style=\"color: #00af00; text-decoration-color: #00af00\">24</span>)             │           <span style=\"color: #00af00; text-decoration-color: #00af00\">2,400</span> │\n",
              "├──────────────────────────────────────┼─────────────────────────────┼─────────────────┤\n",
              "│ dropout_3 (<span style=\"color: #0087ff; text-decoration-color: #0087ff\">Dropout</span>)                  │ (<span style=\"color: #00d7ff; text-decoration-color: #00d7ff\">None</span>, <span style=\"color: #00af00; text-decoration-color: #00af00\">200</span>, <span style=\"color: #00af00; text-decoration-color: #00af00\">24</span>)             │               <span style=\"color: #00af00; text-decoration-color: #00af00\">0</span> │\n",
              "├──────────────────────────────────────┼─────────────────────────────┼─────────────────┤\n",
              "│ bidirectional_3 (<span style=\"color: #0087ff; text-decoration-color: #0087ff\">Bidirectional</span>)      │ (<span style=\"color: #00d7ff; text-decoration-color: #00d7ff\">None</span>, <span style=\"color: #00af00; text-decoration-color: #00af00\">24</span>)                  │           <span style=\"color: #00af00; text-decoration-color: #00af00\">3,552</span> │\n",
              "├──────────────────────────────────────┼─────────────────────────────┼─────────────────┤\n",
              "│ dropout_4 (<span style=\"color: #0087ff; text-decoration-color: #0087ff\">Dropout</span>)                  │ (<span style=\"color: #00d7ff; text-decoration-color: #00d7ff\">None</span>, <span style=\"color: #00af00; text-decoration-color: #00af00\">24</span>)                  │               <span style=\"color: #00af00; text-decoration-color: #00af00\">0</span> │\n",
              "├──────────────────────────────────────┼─────────────────────────────┼─────────────────┤\n",
              "│ dense_3 (<span style=\"color: #0087ff; text-decoration-color: #0087ff\">Dense</span>)                      │ (<span style=\"color: #00d7ff; text-decoration-color: #00d7ff\">None</span>, <span style=\"color: #00af00; text-decoration-color: #00af00\">24</span>)                  │             <span style=\"color: #00af00; text-decoration-color: #00af00\">600</span> │\n",
              "├──────────────────────────────────────┼─────────────────────────────┼─────────────────┤\n",
              "│ dropout_5 (<span style=\"color: #0087ff; text-decoration-color: #0087ff\">Dropout</span>)                  │ (<span style=\"color: #00d7ff; text-decoration-color: #00d7ff\">None</span>, <span style=\"color: #00af00; text-decoration-color: #00af00\">24</span>)                  │               <span style=\"color: #00af00; text-decoration-color: #00af00\">0</span> │\n",
              "├──────────────────────────────────────┼─────────────────────────────┼─────────────────┤\n",
              "│ dense_4 (<span style=\"color: #0087ff; text-decoration-color: #0087ff\">Dense</span>)                      │ (<span style=\"color: #00d7ff; text-decoration-color: #00d7ff\">None</span>, <span style=\"color: #00af00; text-decoration-color: #00af00\">12</span>)                  │             <span style=\"color: #00af00; text-decoration-color: #00af00\">300</span> │\n",
              "├──────────────────────────────────────┼─────────────────────────────┼─────────────────┤\n",
              "│ dense_5 (<span style=\"color: #0087ff; text-decoration-color: #0087ff\">Dense</span>)                      │ (<span style=\"color: #00d7ff; text-decoration-color: #00d7ff\">None</span>, <span style=\"color: #00af00; text-decoration-color: #00af00\">1</span>)                   │              <span style=\"color: #00af00; text-decoration-color: #00af00\">13</span> │\n",
              "└──────────────────────────────────────┴─────────────────────────────┴─────────────────┘\n",
              "</pre>\n"
            ]
          },
          "metadata": {}
        },
        {
          "output_type": "display_data",
          "data": {
            "text/plain": [
              "\u001b[1m Total params: \u001b[0m\u001b[38;5;34m126,865\u001b[0m (495.57 KB)\n"
            ],
            "text/html": [
              "<pre style=\"white-space:pre;overflow-x:auto;line-height:normal;font-family:Menlo,'DejaVu Sans Mono',consolas,'Courier New',monospace\"><span style=\"font-weight: bold\"> Total params: </span><span style=\"color: #00af00; text-decoration-color: #00af00\">126,865</span> (495.57 KB)\n",
              "</pre>\n"
            ]
          },
          "metadata": {}
        },
        {
          "output_type": "display_data",
          "data": {
            "text/plain": [
              "\u001b[1m Trainable params: \u001b[0m\u001b[38;5;34m126,865\u001b[0m (495.57 KB)\n"
            ],
            "text/html": [
              "<pre style=\"white-space:pre;overflow-x:auto;line-height:normal;font-family:Menlo,'DejaVu Sans Mono',consolas,'Courier New',monospace\"><span style=\"font-weight: bold\"> Trainable params: </span><span style=\"color: #00af00; text-decoration-color: #00af00\">126,865</span> (495.57 KB)\n",
              "</pre>\n"
            ]
          },
          "metadata": {}
        },
        {
          "output_type": "display_data",
          "data": {
            "text/plain": [
              "\u001b[1m Non-trainable params: \u001b[0m\u001b[38;5;34m0\u001b[0m (0.00 B)\n"
            ],
            "text/html": [
              "<pre style=\"white-space:pre;overflow-x:auto;line-height:normal;font-family:Menlo,'DejaVu Sans Mono',consolas,'Courier New',monospace\"><span style=\"font-weight: bold\"> Non-trainable params: </span><span style=\"color: #00af00; text-decoration-color: #00af00\">0</span> (0.00 B)\n",
              "</pre>\n"
            ]
          },
          "metadata": {}
        }
      ]
    },
    {
      "cell_type": "code",
      "source": [
        "from tensorflow.keras.callbacks import ModelCheckpoint, EarlyStopping\n",
        "\n",
        "# Create a ModelCheckpoint callback that saves the model's weights every 5 epochs\n",
        "checkpoint = ModelCheckpoint(filepath='model_weights_epoch_{epoch:02d}.weights.h5',\n",
        "                             save_weights_only=True,\n",
        "                             save_freq=5*len(x_train) // 50)  # 5 epochs worth of steps\n",
        "\n",
        "# Create an EarlyStopping callback that stops training when the validation loss has not improved for 3 consecutive epochs\n",
        "early_stop = EarlyStopping(monitor='val_loss', patience=3, restore_best_weights=True)"
      ],
      "metadata": {
        "id": "4mbYkxUN8LtH"
      },
      "execution_count": null,
      "outputs": []
    },
    {
      "cell_type": "code",
      "source": [
        "# Train the model with the checkpoint and early stopping callbacks\n",
        "history = model.fit(x_train, y_train,\n",
        "                    epochs=20,\n",
        "                    batch_size=50,\n",
        "                    validation_split=0.1,\n",
        "                    callbacks=[checkpoint, early_stop])"
      ],
      "metadata": {
        "colab": {
          "base_uri": "https://localhost:8080/"
        },
        "id": "zPfwrw7TzaHB",
        "outputId": "2eb21b04-74a7-418b-b9c9-07bbf32c6fd1"
      },
      "execution_count": null,
      "outputs": [
        {
          "output_type": "stream",
          "name": "stdout",
          "text": [
            "Epoch 1/20\n",
            "\u001b[1m1031/1031\u001b[0m \u001b[32m━━━━━━━━━━━━━━━━━━━━\u001b[0m\u001b[37m\u001b[0m \u001b[1m33s\u001b[0m 32ms/step - accuracy: 0.9991 - loss: 0.0031 - val_accuracy: 0.9551 - val_loss: 0.3120\n",
            "Epoch 2/20\n",
            "\u001b[1m1031/1031\u001b[0m \u001b[32m━━━━━━━━━━━━━━━━━━━━\u001b[0m\u001b[37m\u001b[0m \u001b[1m39s\u001b[0m 30ms/step - accuracy: 0.9994 - loss: 0.0026 - val_accuracy: 0.9544 - val_loss: 0.3493\n",
            "Epoch 3/20\n",
            "\u001b[1m1031/1031\u001b[0m \u001b[32m━━━━━━━━━━━━━━━━━━━━\u001b[0m\u001b[37m\u001b[0m \u001b[1m42s\u001b[0m 32ms/step - accuracy: 0.9991 - loss: 0.0023 - val_accuracy: 0.9581 - val_loss: 0.3288\n",
            "Epoch 4/20\n",
            "\u001b[1m1031/1031\u001b[0m \u001b[32m━━━━━━━━━━━━━━━━━━━━\u001b[0m\u001b[37m\u001b[0m \u001b[1m41s\u001b[0m 32ms/step - accuracy: 0.9994 - loss: 0.0018 - val_accuracy: 0.9591 - val_loss: 0.4483\n"
          ]
        }
      ]
    },
    {
      "cell_type": "code",
      "source": [
        "# Save the entire model after training is complete\n",
        "model.save('baseline_model.h5')"
      ],
      "metadata": {
        "colab": {
          "base_uri": "https://localhost:8080/"
        },
        "id": "GHbwn2QM6AwE",
        "outputId": "abe5f524-1391-442d-e802-f3c396c4df79"
      },
      "execution_count": null,
      "outputs": [
        {
          "output_type": "stream",
          "name": "stderr",
          "text": [
            "WARNING:absl:You are saving your model as an HDF5 file via `model.save()` or `keras.saving.save_model(model)`. This file format is considered legacy. We recommend using instead the native Keras format, e.g. `model.save('my_model.keras')` or `keras.saving.save_model(model, 'my_model.keras')`. \n"
          ]
        }
      ]
    },
    {
      "cell_type": "code",
      "source": [
        "# Evaluate the model on the test data\n",
        "loss, accuracy = model.evaluate(x_test, y_test)\n",
        "print(f\"Test Loss: {loss}\")\n",
        "print(f\"Test Accuracy: {accuracy}\")"
      ],
      "metadata": {
        "colab": {
          "base_uri": "https://localhost:8080/"
        },
        "id": "mvuxNlVHAKqO",
        "outputId": "c06efd7a-4e69-40aa-93ea-1bbcac06bdc7"
      },
      "execution_count": null,
      "outputs": [
        {
          "output_type": "stream",
          "name": "stdout",
          "text": [
            "\u001b[1m448/448\u001b[0m \u001b[32m━━━━━━━━━━━━━━━━━━━━\u001b[0m\u001b[37m\u001b[0m \u001b[1m6s\u001b[0m 12ms/step - accuracy: 0.9525 - loss: 0.3587\n",
            "Test Loss: 0.33255189657211304\n",
            "Test Accuracy: 0.9545708894729614\n"
          ]
        }
      ]
    },
    {
      "cell_type": "code",
      "source": [
        "from sklearn.metrics import classification_report, confusion_matrix\n",
        "# Predict the labels for the test data\n",
        "y_pred = model.predict(x_test)\n",
        "y_pred_classes = (y_pred > 0.5).astype(\"int32\")\n",
        "\n",
        "# Print the classification report\n",
        "print(classification_report(y_test, y_pred_classes, target_names=['Fake', 'Real']))"
      ],
      "metadata": {
        "colab": {
          "base_uri": "https://localhost:8080/"
        },
        "id": "Yr_sgZ1wASCF",
        "outputId": "5351071d-e552-4870-b7cf-8969cff25dfe"
      },
      "execution_count": null,
      "outputs": [
        {
          "output_type": "stream",
          "name": "stdout",
          "text": [
            "\u001b[1m448/448\u001b[0m \u001b[32m━━━━━━━━━━━━━━━━━━━━\u001b[0m\u001b[37m\u001b[0m \u001b[1m12s\u001b[0m 27ms/step\n",
            "              precision    recall  f1-score   support\n",
            "\n",
            "        Fake       0.95      0.95      0.95      7081\n",
            "        Real       0.95      0.96      0.96      7227\n",
            "\n",
            "    accuracy                           0.95     14308\n",
            "   macro avg       0.95      0.95      0.95     14308\n",
            "weighted avg       0.95      0.95      0.95     14308\n",
            "\n"
          ]
        }
      ]
    },
    {
      "cell_type": "code",
      "source": [
        "import matplotlib.pyplot as plt\n",
        "import seaborn as sns\n",
        "\n",
        "# Compute and plot the confusion matrix\n",
        "conf_matrix = confusion_matrix(y_test, y_pred_classes)\n",
        "\n",
        "plt.figure(figsize=(6,6))\n",
        "sns.heatmap(conf_matrix, annot=True, fmt='d', cmap='Blues', xticklabels=['Fake', 'Real'], yticklabels=['Fake', 'Real'])\n",
        "plt.xlabel('Predicted')\n",
        "plt.ylabel('Actual')\n",
        "plt.title('Confusion Matrix')\n",
        "plt.show()"
      ],
      "metadata": {
        "colab": {
          "base_uri": "https://localhost:8080/",
          "height": 564
        },
        "id": "LH5CXgeCAVIf",
        "outputId": "7062c01d-3038-47a1-9e83-99d74122db78"
      },
      "execution_count": null,
      "outputs": [
        {
          "output_type": "display_data",
          "data": {
            "text/plain": [
              "<Figure size 600x600 with 2 Axes>"
            ],
            "image/png": "[encoded data removed]"
          },
          "metadata": {}
        }
      ]
    },
    {
      "cell_type": "code",
      "source": [
        "# Plot training & validation accuracy values\n",
        "plt.figure(figsize=(12, 4))\n",
        "\n",
        "plt.subplot(1, 2, 1)\n",
        "plt.plot(history.history['accuracy'])\n",
        "plt.plot(history.history['val_accuracy'])\n",
        "plt.title('Model Accuracy')\n",
        "plt.ylabel('Accuracy')\n",
        "plt.xlabel('Epoch')\n",
        "plt.legend(['Train', 'Validation'], loc='upper left')\n",
        "\n",
        "# Plot training & validation loss values\n",
        "plt.subplot(1, 2, 2)\n",
        "plt.plot(history.history['loss'])\n",
        "plt.plot(history.history['val_loss'])\n",
        "plt.title('Model Loss')\n",
        "plt.ylabel('Loss')\n",
        "plt.xlabel('Epoch')\n",
        "plt.legend(['Train', 'Validation'], loc='upper left')\n",
        "\n",
        "plt.tight_layout()\n",
        "plt.show()"
      ],
      "metadata": {
        "colab": {
          "base_uri": "https://localhost:8080/",
          "height": 407
        },
        "id": "tptjeBbqApq1",
        "outputId": "a155c3ab-e43b-48ff-a955-fd6f315c5bee"
      },
      "execution_count": null,
      "outputs": [
        {
          "output_type": "display_data",
          "data": {
            "text/plain": [
              "<Figure size 1200x400 with 2 Axes>"
            ],
            "image/png": "[encoded data removed]"
          },
          "metadata": {}
        }
      ]
    },
    {
      "cell_type": "code",
      "source": [
        "from tensorflow.keras.models import load_model\n",
        "\n",
        "# Load the saved model\n",
        "model = load_model('baseline_model.h5')"
      ],
      "metadata": {
        "colab": {
          "base_uri": "https://localhost:8080/"
        },
        "id": "MpSMUUrX-ImS",
        "outputId": "3288031a-7081-4b29-ef68-2af75852c233"
      },
      "execution_count": null,
      "outputs": [
        {
          "output_type": "stream",
          "name": "stderr",
          "text": [
            "WARNING:absl:Compiled the loaded model, but the compiled metrics have yet to be built. `model.compile_metrics` will be empty until you train or evaluate the model.\n"
          ]
        }
      ]
    },
    {
      "cell_type": "code",
      "source": [
        "def preprocess_text(text, tokenizer, max_len):\n",
        "    # Tokenize the input text\n",
        "    sequences = tokenizer.texts_to_sequences([text])\n",
        "    # Pad the sequence\n",
        "    padded_sequence = pad_sequences(sequences, maxlen=max_len, padding='post', truncating='post')\n",
        "    return padded_sequence\n",
        "\n",
        "def classify_news(text, model, tokenizer, max_len):\n",
        "    # Preprocess the text\n",
        "    preprocessed_text = preprocess_text(text, tokenizer, max_len)\n",
        "    # Predict with the model\n",
        "    prediction = model.predict(preprocessed_text)\n",
        "    # Convert prediction to label\n",
        "    if prediction >= 0.5:\n",
        "        return \"Real\"\n",
        "    else:\n",
        "        return \"Fake\""
      ],
      "metadata": {
        "id": "YowKSs44-XUe"
      },
      "execution_count": null,
      "outputs": []
    },
    {
      "cell_type": "code",
      "source": [
        "def user_input_interface():\n",
        "    # Get input from the user\n",
        "    user_input = input(\"Please enter the news text you want to classify: \")\n",
        "\n",
        "    # Classify the input\n",
        "    result = classify_news(user_input, model, tokenizer, max_len_of_news)\n",
        "\n",
        "    # Output the result\n",
        "    print(f\"The news is classified as: {result}\")"
      ],
      "metadata": {
        "id": "H9lJObKi-ZO3"
      },
      "execution_count": null,
      "outputs": []
    },
    {
      "cell_type": "code",
      "source": [
        "# Run the interface in a loop\n",
        "while True:\n",
        "    user_input_interface()\n",
        "    # Ask the user if they want to classify another text\n",
        "    cont = input(\"Do you want to classify another news? (yes/no): \").strip().lower()\n",
        "    if cont != 'yes':\n",
        "        break"
      ],
      "metadata": {
        "colab": {
          "base_uri": "https://localhost:8080/"
        },
        "id": "EKxX7QJo-bvw",
        "outputId": "34063add-a54e-43ef-92a7-5b05d570dd45"
      },
      "execution_count": null,
      "outputs": [
        {
          "name": "stdout",
          "output_type": "stream",
          "text": [
            "Please enter the news text you want to classify: MOGADISHU (Reuters) - More than 200 people were killed by twin bomb blasts that struck busy junctions in the heart of Somalia s capital Mogadishu, officials said on Sunday, marking the deadliest attacks since an Islamist insurgency began in 2007. President Mohamed Abdullahi Farmaajo declared three days of national mourning and called for donations of blood and funds to victims of Saturday s attack. At least 100 others were wounded.  Today s horrific attack proves our enemy would stop nothing to cause our people pain and suffering. Let s unite against terror,  he tweeted.  Police said a truck bomb exploded outside a hotel in the K5 intersection that is lined with government offices, restaurants and kiosks, flattening several buildings and setting dozens of vehicles on fire. Two hours later, another blast struck the capital s Medina district.  We have confirmed 200 civilians died in yesterday s blast. We understand the death toll is higher than that. Many people are still missing their relatives,  Abdifatah Omar Halane, the spokesman for Mogadishu s mayor, told Reuters.  A spokesman for Aamin Ambulance service said it knew of more than 250 people wounded during the bombings on Saturday.  Some people who searched for their relatives just found unrecognizable body parts,  its director Abdikadir Abdirahman told Reuters.   In our 10 year experience as the first responder in #Mogadishu, we haven t seen anything like this,  tweeted the ambulance service, which is reliant on private donations and the only free ambulance service in the city.  We re mourning the loss of 5 Somali Red Crescent volunteers, also killed in this attack,  tweeted the International Committee of the Red Cross.  Police and emergency workers searched the rubble of destroyed buildings on Sunday. They had recovered dozens of corpses the night before, most of which were charred beyond recognition. Hundreds of people came to the junction in search of missing family members and police cordoned off the area for security reasons. There was no immediate claim of responsibility, although the Islamist militant group al Shabaab, which is allied to al Qaeda, stages regular attacks in the capital and other parts of the country. The group is waging an insurgency against the U.N.-backed government and its African Union allies in a bid to topple the weak administration and impose its own strict interpretation of Islam. The militants were driven out of Mogadishu in 2011 and have been steadily losing territory since then to the combined forces of African Union peacekeepers and Somali security forces. But al Shabaab retains the ability to mount large, complex bomb attacks. Over the past three years, the number of civilians killed by insurgent bombings has steadily climbed as al Shabaab increases the size of its bombs.  \n",
            "\u001b[1m1/1\u001b[0m \u001b[32m━━━━━━━━━━━━━━━━━━━━\u001b[0m\u001b[37m\u001b[0m \u001b[1m0s\u001b[0m 30ms/step\n",
            "The news is classified as: Fake\n",
            "Do you want to classify another news? (yes/no): no\n"
          ]
        }
      ]
    },
    {
      "cell_type": "code",
      "source": [
        "# Sample fake news data (preprocessed and ready for input)\n",
        "fake_news_samples = [\n",
        "    \"Breaking: Government confirms that a new virus has been created in the lab and will spread globally.\",\n",
        "    \"Scientists discovered that drinking coffee increases the risk of getting cancer by 80%.\",\n",
        "    \"A secret message from an alien civilization has been intercepted by the NSA.\",\n",
        "    \"The stock market will crash tomorrow due to insider information leaked from major banks.\",\n",
        "    \"New miracle drug can cure all diseases, pharmaceutical companies try to hide it from the public.\"\n",
        "]\n",
        "\n",
        "# Preprocess the sample data using the same tokenizer and padding you've used\n",
        "fake_news_sequences = tokenizer.texts_to_sequences(fake_news_samples)\n",
        "fake_news_padded = pad_sequences(fake_news_sequences, maxlen=max_len_of_news, padding='post', truncating='post')\n",
        "\n",
        "# Predict using your model\n",
        "fake_news_predictions = model.predict(fake_news_padded)\n",
        "fake_news_results = (fake_news_predictions > 0.5).astype(\"int32\")\n",
        "\n",
        "# Output the results\n",
        "for i, news in enumerate(fake_news_samples):\n",
        "    label = \"Real\" if fake_news_results[i] == 1 else \"Fake\"\n",
        "    print(f\"News: {news}\")\n",
        "    print(f\"Predicted Label: {label}\\n\")\n"
      ],
      "metadata": {
        "colab": {
          "base_uri": "https://localhost:8080/"
        },
        "id": "EWObLlu8-gGH",
        "outputId": "69b08115-18fa-4bc6-dc1e-fc793fdd2a35"
      },
      "execution_count": null,
      "outputs": [
        {
          "output_type": "stream",
          "name": "stdout",
          "text": [
            "\u001b[1m1/1\u001b[0m \u001b[32m━━━━━━━━━━━━━━━━━━━━\u001b[0m\u001b[37m\u001b[0m \u001b[1m0s\u001b[0m 129ms/step\n",
            "News: Breaking: Government confirms that a new virus has been created in the lab and will spread globally.\n",
            "Predicted Label: Real\n",
            "\n",
            "News: Scientists discovered that drinking coffee increases the risk of getting cancer by 80%.\n",
            "Predicted Label: Real\n",
            "\n",
            "News: A secret message from an alien civilization has been intercepted by the NSA.\n",
            "Predicted Label: Real\n",
            "\n",
            "News: The stock market will crash tomorrow due to insider information leaked from major banks.\n",
            "Predicted Label: Real\n",
            "\n",
            "News: New miracle drug can cure all diseases, pharmaceutical companies try to hide it from the public.\n",
            "Predicted Label: Real\n",
            "\n"
          ]
        }
      ]
    },
    {
      "cell_type": "code",
      "source": [],
      "metadata": {
        "id": "SDa--ts3E5WT"
      },
      "execution_count": null,
      "outputs": []
    }
  ]
}
