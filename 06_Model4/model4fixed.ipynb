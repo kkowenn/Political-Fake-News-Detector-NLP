{
  "nbformat": 4,
  "nbformat_minor": 0,
  "metadata": {
    "colab": {
      "provenance": [],
      "gpuType": "T4"
    },
    "kernelspec": {
      "name": "python3",
      "display_name": "Python 3"
    },
    "language_info": {
      "name": "python"
    },
    "accelerator": "GPU"
  },
  "cells": [
    {
      "cell_type": "code",
      "source": [
        "from google.colab import drive\n",
        "drive.mount('/content/drive')"
      ],
      "metadata": {
        "colab": {
          "base_uri": "https://localhost:8080/"
        },
        "id": "US6IvBjreyFv",
        "outputId": "ce788f06-ffe0-4932-9f35-195f72aa758d"
      },
      "execution_count": 1,
      "outputs": [
        {
          "output_type": "stream",
          "name": "stdout",
          "text": [
            "Mounted at /content/drive\n"
          ]
        }
      ]
    },
    {
      "cell_type": "markdown",
      "source": [
        "import library"
      ],
      "metadata": {
        "id": "gqtL9w6qesDp"
      }
    },
    {
      "cell_type": "code",
      "source": [
        "import pandas as pd\n",
        "import numpy as np\n",
        "import matplotlib.pyplot as plt\n",
        "import seaborn as sns\n",
        "import random\n",
        "import nltk\n",
        "from nltk.corpus import wordnet\n",
        "from tensorflow.keras.preprocessing.text import Tokenizer\n",
        "from tensorflow.keras.preprocessing.sequence import pad_sequences\n",
        "from sklearn.model_selection import train_test_split\n",
        "from tensorflow.keras.models import Sequential\n",
        "from tensorflow.keras.layers import Embedding, Bidirectional, LSTM, Dense, Dropout, Input\n",
        "from tensorflow.keras.callbacks import ModelCheckpoint, EarlyStopping\n",
        "from tensorflow.keras.models import load_model\n",
        "from tensorflow.keras.regularizers import l2\n",
        "import pickle"
      ],
      "metadata": {
        "id": "6zpcR1mQexBy"
      },
      "execution_count": 2,
      "outputs": []
    },
    {
      "cell_type": "code",
      "source": [
        "nltk.download('wordnet')"
      ],
      "metadata": {
        "colab": {
          "base_uri": "https://localhost:8080/"
        },
        "id": "YNe4uqBve1Jj",
        "outputId": "8ad34449-8926-405b-8e4d-f28558b3e963"
      },
      "execution_count": 3,
      "outputs": [
        {
          "output_type": "stream",
          "name": "stderr",
          "text": [
            "[nltk_data] Downloading package wordnet to /root/nltk_data...\n"
          ]
        },
        {
          "output_type": "execute_result",
          "data": {
            "text/plain": [
              "True"
            ]
          },
          "metadata": {},
          "execution_count": 3
        }
      ]
    },
    {
      "cell_type": "code",
      "execution_count": 4,
      "metadata": {
        "colab": {
          "base_uri": "https://localhost:8080/"
        },
        "id": "XKTV-cRejZv-",
        "outputId": "a3b095cc-967a-4b90-9684-b5620877a8f3"
      },
      "outputs": [
        {
          "output_type": "stream",
          "name": "stdout",
          "text": [
            "set1\n",
            "                                               title  \\\n",
            "0  law enforcement high alert following threat co...   \n",
            "1                                            missing   \n",
            "2  unbelievable obamas attorney general say charl...   \n",
            "3  bobby jindal raised hindu us story christian c...   \n",
            "4  satan 2 russia unvelis image terrifying new su...   \n",
            "\n",
            "                                                text  label  title_missing  \\\n",
            "0  comment expected barack obama member fyf911 fu...      1          False   \n",
            "1                          post vote hillary already      1           True   \n",
            "2  demonstrator gathered last night exercising co...      1          False   \n",
            "3  dozen politically active pastor came private d...      0          False   \n",
            "4  rs28 sarmat missile dubbed satan 2 replace ss1...      1          False   \n",
            "\n",
            "   text_missing                                       title_tokens  \\\n",
            "0         False  ['law', 'enforcement', 'high', 'alert', 'follo...   \n",
            "1         False                                        ['missing']   \n",
            "2         False  ['unbelievable', 'obamas', 'attorney', 'genera...   \n",
            "3         False  ['bobby', 'jindal', 'raised', 'hindu', 'uses',...   \n",
            "4         False  ['satan', '2', 'russia', 'unvelis', 'image', '...   \n",
            "\n",
            "                                         text_tokens  \n",
            "0  ['comment', 'expected', 'barack', 'obama', 'me...  \n",
            "1            ['post', 'votes', 'hillary', 'already']  \n",
            "2  ['demonstrators', 'gathered', 'last', 'night',...  \n",
            "3  ['dozen', 'politically', 'active', 'pastors', ...  \n",
            "4  ['rs28', 'sarmat', 'missile', 'dubbed', 'satan...  \n",
            "set2\n",
            "                                               title  \\\n",
            "0  law enforcement high alert following threat co...   \n",
            "1                                            missing   \n",
            "2  unbelievable obamas attorney general say charl...   \n",
            "3  bobby jindal raised hindu us story christian c...   \n",
            "4  satan 2 russia unvelis image terrifying new su...   \n",
            "\n",
            "                                                text  label  title_missing  \\\n",
            "0  comment expected barack obama member fyf911 fu...      1          False   \n",
            "1                          post vote hillary already      1           True   \n",
            "2  demonstrator gathered last night exercising co...      1          False   \n",
            "3  dozen politically active pastor came private d...      0          False   \n",
            "4  rs28 sarmat missile dubbed satan 2 replace ss1...      1          False   \n",
            "\n",
            "   text_missing                                       title_tokens  \\\n",
            "0         False  ['law', 'enforcement', 'high', 'alert', 'follo...   \n",
            "1         False                                        ['missing']   \n",
            "2         False  ['unbelievable', 'obamas', 'attorney', 'genera...   \n",
            "3         False  ['bobby', 'jindal', 'raised', 'hindu', 'uses',...   \n",
            "4         False  ['satan', '2', 'russia', 'unvelis', 'image', '...   \n",
            "\n",
            "                                         text_tokens  \\\n",
            "0  ['comment', 'expected', 'barack', 'obama', 'me...   \n",
            "1            ['post', 'votes', 'hillary', 'already']   \n",
            "2  ['demonstrators', 'gathered', 'last', 'night',...   \n",
            "3  ['dozen', 'politically', 'active', 'pastors', ...   \n",
            "4  ['rs28', 'sarmat', 'missile', 'dubbed', 'satan...   \n",
            "\n",
            "                                back_translated_text  \\\n",
            "0  wait comment barack obama member fyf911 fukyof...   \n",
            "1                                      voted hillary   \n",
            "2  protester gathered last night exercise constit...   \n",
            "3  dozen politically active pastor came private d...   \n",
            "4  rs28 sarmat missile called satan 2 replaces ss...   \n",
            "\n",
            "   back_translated_text_missing  \\\n",
            "0                         False   \n",
            "1                         False   \n",
            "2                         False   \n",
            "3                         False   \n",
            "4                         False   \n",
            "\n",
            "                         back_translated_text_tokens  \n",
            "0  ['wait', 'comment', 'barack', 'obama', 'member...  \n",
            "1                               ['voted', 'hillary']  \n",
            "2  ['protester', 'gathered', 'last', 'night', 'ex...  \n",
            "3  ['dozen', 'politically', 'active', 'pastor', '...  \n",
            "4  ['rs28', 'sarmat', 'missile', 'called', 'satan...  \n",
            "set3\n",
            "                                                news  label  news_missing  \\\n",
            "0  pennsylvania court order count ballot election...      0         False   \n",
            "1  biden democrat dismantled border security neva...      0         False   \n",
            "2  katie hobbs voted double gas tax runup midterm...      1         False   \n",
            "3  reuters reported nancy pelosi bought 10 millio...      0         False   \n",
            "4  true united state built stolen land florida go...      0         False   \n",
            "\n",
            "   label_missing                                        news_tokens  \n",
            "0          False  ['pennsylvania', 'court', 'order', 'count', 'b...  \n",
            "1          False  ['biden', 'democrats', 'dismantled', 'border',...  \n",
            "2          False  ['katie', 'hobbs', 'voted', 'double', 'gas', '...  \n",
            "3          False  ['reuters', 'reported', 'nancy', 'pelosi', 'bo...  \n",
            "4          False  ['true', 'united', 'states', 'built', 'stolen'...  \n"
          ]
        }
      ],
      "source": [
        "import pandas as pd\n",
        "\n",
        "kaggle_dataset = '/content/drive/MyDrive/deeplearningProgression/kaggle_dataset.csv'\n",
        "kaggle_dataset = pd.read_csv(kaggle_dataset)\n",
        "\n",
        "backtranslate = '/content/drive/MyDrive/deeplearningProgression/backtranslate_processed.csv'\n",
        "backtranslate = pd.read_csv(backtranslate)\n",
        "\n",
        "huggingFace_dataset = '/content/drive/MyDrive/deeplearningProgression/huggingface_dataset.csv'\n",
        "huggingFace_dataset = pd.read_csv(huggingFace_dataset)\n",
        "\n",
        "print(\"set1\")\n",
        "print(kaggle_dataset.head())\n",
        "print(\"set2\")\n",
        "print(backtranslate.head())\n",
        "print(\"set3\")\n",
        "print(huggingFace_dataset.head())"
      ]
    },
    {
      "cell_type": "code",
      "source": [
        "# Ensure all entries in 'back_translated_text' are strings\n",
        "backtranslate['back_translated_text_tokens'] = backtranslate['back_translated_text_tokens'].astype(str).fillna('')"
      ],
      "metadata": {
        "id": "3zXKvaq5tCLy"
      },
      "execution_count": 5,
      "outputs": []
    },
    {
      "cell_type": "code",
      "source": [
        "# Function to augment with synonym replacement\n",
        "def synonym_replacement(text, n=1):\n",
        "    words = text.split()\n",
        "    new_words = words.copy()\n",
        "    random_word_list = list(set([word for word in words if wordnet.synsets(word)]))\n",
        "    random.shuffle(random_word_list)\n",
        "    num_replaced = 0\n",
        "    for random_word in random_word_list:\n",
        "        synonyms = wordnet.synsets(random_word)\n",
        "        if len(synonyms) >= 1:\n",
        "            synonym = synonyms[0].lemmas()[0].name()\n",
        "            new_words = [synonym if word == random_word else word for word in new_words]\n",
        "            num_replaced += 1\n",
        "        if num_replaced >= n:\n",
        "            break\n",
        "    return ' '.join(new_words)\n",
        "\n",
        "# Function to augment with random insertion\n",
        "def random_insertion(words, n):\n",
        "    words = words.split()\n",
        "    new_words = words.copy()\n",
        "    for _ in range(n):\n",
        "        add_word(new_words)\n",
        "    return ' '.join(new_words)\n",
        "\n",
        "def add_word(new_words):\n",
        "    synonyms = []\n",
        "    counter = 0\n",
        "    while len(synonyms) < 1:\n",
        "        random_word = new_words[random.randint(0, len(new_words)-1)]\n",
        "        synonyms = get_synonyms(random_word)\n",
        "        counter += 1\n",
        "        if counter >= 10:\n",
        "            return\n",
        "    random_synonym = synonyms[0]\n",
        "    random_idx = random.randint(0, len(new_words)-1)\n",
        "    new_words.insert(random_idx, random_synonym)\n",
        "\n",
        "# Random Deletion augmentation function\n",
        "def random_deletion(words, p):\n",
        "    words = words.split()\n",
        "    if len(words) == 1:\n",
        "        return words\n",
        "    new_words = [word for word in words if random.uniform(0, 1) > p]\n",
        "    if len(new_words) == 0:\n",
        "        return [random.choice(words)]\n",
        "    return ' '.join(new_words)\n",
        "\n",
        "# Function to get synonyms for random insertion\n",
        "def get_synonyms(word):\n",
        "    synonyms = wordnet.synsets(word)\n",
        "    return [syn.lemmas()[0].name() for syn in synonyms] if synonyms else []\n",
        "\n",
        "# Apply augmentation to Kaggle dataset\n",
        "kaggle_dataset['text_tokens_synonym'] = kaggle_dataset['text_tokens'].apply(lambda x: synonym_replacement(x))\n",
        "kaggle_dataset['text_tokens_insertion'] = kaggle_dataset['text_tokens'].apply(lambda x: random_insertion(x, 2))\n",
        "kaggle_dataset['text_tokens_deletion'] = kaggle_dataset['text_tokens'].apply(lambda x: random_deletion(x, 0.2))\n",
        "\n",
        "# Apply augmentation to back-translated dataset (handling missing or non-string values)\n",
        "backtranslate['back_translated_text_synonym'] = backtranslate['back_translated_text_tokens'].apply(lambda x: synonym_replacement(x))\n",
        "backtranslate['back_translated_text_insertion'] = backtranslate['back_translated_text_tokens'].apply(lambda x: random_insertion(x, 2))\n",
        "backtranslate['back_translated_text_deletion'] = backtranslate['back_translated_text_tokens'].apply(lambda x: random_deletion(x, 0.2))\n",
        "\n",
        "# Combine original and augmented datasets\n",
        "x_train_original = kaggle_dataset['text_tokens'].values.tolist() + backtranslate['back_translated_text_tokens'].values.tolist()\n",
        "x_train_synonym = kaggle_dataset['text_tokens_synonym'].values.tolist() + backtranslate['back_translated_text_synonym'].values.tolist()\n",
        "x_train_insertion = kaggle_dataset['text_tokens_insertion'].values.tolist() + backtranslate['back_translated_text_insertion'].values.tolist()\n",
        "x_train_deletion = kaggle_dataset['text_tokens_deletion'].values.tolist() + backtranslate['back_translated_text_deletion'].values.tolist()\n",
        "y_train = np.concatenate([kaggle_dataset['label'].values, backtranslate['label'].values])\n",
        "\n",
        "# Concatenate original and augmented data\n",
        "x_train_combined = x_train_original + x_train_synonym + x_train_insertion + x_train_deletion\n",
        "y_train_combined = np.concatenate([y_train, y_train, y_train, y_train])\n",
        "\n",
        "# Display the length of the combined dataset\n",
        "print(f\"Length of combined dataset (original + augmented): {len(x_train_combined)}\")"
      ],
      "metadata": {
        "colab": {
          "base_uri": "https://localhost:8080/"
        },
        "id": "WzfclVxGrS3p",
        "outputId": "7e1b8d3c-0496-441c-a76e-69e1e2817e41"
      },
      "execution_count": 6,
      "outputs": [
        {
          "output_type": "stream",
          "name": "stdout",
          "text": [
            "Length of combined dataset (original + augmented): 408516\n"
          ]
        }
      ]
    },
    {
      "cell_type": "code",
      "source": [
        "x_train = x_train_combined\n",
        "y_train = y_train_combined\n",
        "\n",
        "# Preprocessing HuggingFace dataset for testing\n",
        "x_test = huggingFace_dataset['news_tokens'].values.tolist()\n",
        "y_test = huggingFace_dataset['label'].values\n",
        "\n",
        "# Display the length of the combined dataset\n",
        "print(f\"Length of combined dataset (back translate): {len(x_train)}\")"
      ],
      "metadata": {
        "colab": {
          "base_uri": "https://localhost:8080/"
        },
        "id": "hZboeN-okwGA",
        "outputId": "5d0bc708-6307-4d97-d0c3-d9ad8c1971c7"
      },
      "execution_count": 7,
      "outputs": [
        {
          "output_type": "stream",
          "name": "stdout",
          "text": [
            "Length of combined dataset (back translate): 408516\n"
          ]
        }
      ]
    },
    {
      "cell_type": "markdown",
      "source": [
        "Tokenization and padding"
      ],
      "metadata": {
        "id": "7RXc0S1Uf4yd"
      }
    },
    {
      "cell_type": "code",
      "source": [
        "import numpy as np\n",
        "import pickle\n",
        "from tensorflow.keras.preprocessing.text import Tokenizer\n",
        "from tensorflow.keras.preprocessing.sequence import pad_sequences\n",
        "\n",
        "# Ensure all values in x_train are strings and handle NaN values\n",
        "x_train = [str(text) if not pd.isnull(text) else \"\" for text in x_train]\n",
        "x_test = [str(text) if not pd.isnull(text) else \"\" for text in x_test]\n",
        "\n",
        "# Tokenization and padding\n",
        "total_words = 10000  # Limit to top 10,000 words\n",
        "tokenizer = Tokenizer(num_words=total_words)\n",
        "tokenizer.fit_on_texts(x_train)\n",
        "\n",
        "# Save the tokenizer for later use in the Streamlit app\n",
        "with open('tokenizer.pickle', 'wb') as handle:\n",
        "    pickle.dump(tokenizer, handle, protocol=pickle.HIGHEST_PROTOCOL)\n",
        "\n",
        "# Convert texts to sequences of integers\n",
        "x_train_sequences = tokenizer.texts_to_sequences(x_train)\n",
        "x_test_sequences = tokenizer.texts_to_sequences(x_test)\n",
        "\n",
        "# Padding sequences to ensure uniform length\n",
        "max_len_of_news = 200  # Set a fixed length for padding\n",
        "x_train_padded = pad_sequences(x_train_sequences, maxlen=max_len_of_news, padding='post', truncating='post')\n",
        "x_test_padded = pad_sequences(x_test_sequences, maxlen=max_len_of_news, padding='post', truncating='post')\n",
        "\n",
        "# Confirm that the data is padded and tokenized correctly\n",
        "print(f\"x_train_padded shape: {x_train_padded.shape}\")\n",
        "print(f\"x_test_padded shape: {x_test_padded.shape}\")\n"
      ],
      "metadata": {
        "id": "d1FnbZS6kics",
        "colab": {
          "base_uri": "https://localhost:8080/"
        },
        "outputId": "4c9ded42-6450-465f-b0c1-7ef6cd3ba973"
      },
      "execution_count": 8,
      "outputs": [
        {
          "output_type": "stream",
          "name": "stdout",
          "text": [
            "x_train_padded shape: (408516, 200)\n",
            "x_test_padded shape: (21318, 200)\n"
          ]
        }
      ]
    },
    {
      "cell_type": "markdown",
      "source": [
        "model architecture"
      ],
      "metadata": {
        "id": "c9IPRdcagJJj"
      }
    },
    {
      "cell_type": "code",
      "source": [
        "from tensorflow.keras.optimizers import Adam\n",
        "from tensorflow.keras.callbacks import ReduceLROnPlateau, EarlyStopping\n",
        "from tensorflow.keras.layers import BatchNormalization\n",
        "\n",
        "# Define the improved model with dropout and batch normalization\n",
        "model = Sequential()\n",
        "model.add(Input(shape=(max_len_of_news,)))\n",
        "\n",
        "# Embedding layer with 128 dimensions\n",
        "model.add(Embedding(input_dim=total_words, output_dim=128))\n",
        "\n",
        "# First Bidirectional LSTM layer with higher dropout\n",
        "model.add(Bidirectional(LSTM(32, return_sequences=True)))  # Reduced LSTM units for simplicity\n",
        "model.add(BatchNormalization())\n",
        "model.add(Dropout(0.6))  # Increased dropout to 60%\n",
        "\n",
        "# Second Bidirectional LSTM layer\n",
        "model.add(Bidirectional(LSTM(32)))\n",
        "model.add(BatchNormalization())\n",
        "model.add(Dropout(0.6))  # Increased dropout to 60%\n",
        "\n",
        "# Dense layers with L2 regularization and batch normalization\n",
        "model.add(Dense(64, activation='relu', kernel_regularizer=l2(0.01)))\n",
        "model.add(BatchNormalization())\n",
        "model.add(Dropout(0.6))  # Increased dropout to 60%\n",
        "\n",
        "model.add(Dense(32, activation='relu', kernel_regularizer=l2(0.01)))\n",
        "model.add(BatchNormalization())\n",
        "model.add(Dense(1, activation=\"sigmoid\"))\n",
        "\n",
        "# Compile the model with a lower learning rate\n",
        "optimizer = Adam(learning_rate=0.001)\n",
        "model.compile(optimizer=optimizer, loss='binary_crossentropy', metrics=['accuracy'])\n",
        "\n",
        "# Model summary\n",
        "model.summary()"
      ],
      "metadata": {
        "colab": {
          "base_uri": "https://localhost:8080/",
          "height": 609
        },
        "id": "p_wX-bx4gLVZ",
        "outputId": "7fd17af3-704c-4d68-c72c-f583e04423e2"
      },
      "execution_count": 9,
      "outputs": [
        {
          "output_type": "display_data",
          "data": {
            "text/plain": [
              "\u001b[1mModel: \"sequential\"\u001b[0m\n"
            ],
            "text/html": [
              "<pre style=\"white-space:pre;overflow-x:auto;line-height:normal;font-family:Menlo,'DejaVu Sans Mono',consolas,'Courier New',monospace\"><span style=\"font-weight: bold\">Model: \"sequential\"</span>\n",
              "</pre>\n"
            ]
          },
          "metadata": {}
        },
        {
          "output_type": "display_data",
          "data": {
            "text/plain": [
              "┏━━━━━━━━━━━━━━━━━━━━━━━━━━━━━━━━━━━━━━┳━━━━━━━━━━━━━━━━━━━━━━━━━━━━━┳━━━━━━━━━━━━━━━━━┓\n",
              "┃\u001b[1m \u001b[0m\u001b[1mLayer (type)                        \u001b[0m\u001b[1m \u001b[0m┃\u001b[1m \u001b[0m\u001b[1mOutput Shape               \u001b[0m\u001b[1m \u001b[0m┃\u001b[1m \u001b[0m\u001b[1m        Param #\u001b[0m\u001b[1m \u001b[0m┃\n",
              "┡━━━━━━━━━━━━━━━━━━━━━━━━━━━━━━━━━━━━━━╇━━━━━━━━━━━━━━━━━━━━━━━━━━━━━╇━━━━━━━━━━━━━━━━━┩\n",
              "│ embedding (\u001b[38;5;33mEmbedding\u001b[0m)                │ (\u001b[38;5;45mNone\u001b[0m, \u001b[38;5;34m200\u001b[0m, \u001b[38;5;34m128\u001b[0m)            │       \u001b[38;5;34m1,280,000\u001b[0m │\n",
              "├──────────────────────────────────────┼─────────────────────────────┼─────────────────┤\n",
              "│ bidirectional (\u001b[38;5;33mBidirectional\u001b[0m)        │ (\u001b[38;5;45mNone\u001b[0m, \u001b[38;5;34m200\u001b[0m, \u001b[38;5;34m64\u001b[0m)             │          \u001b[38;5;34m41,216\u001b[0m │\n",
              "├──────────────────────────────────────┼─────────────────────────────┼─────────────────┤\n",
              "│ batch_normalization                  │ (\u001b[38;5;45mNone\u001b[0m, \u001b[38;5;34m200\u001b[0m, \u001b[38;5;34m64\u001b[0m)             │             \u001b[38;5;34m256\u001b[0m │\n",
              "│ (\u001b[38;5;33mBatchNormalization\u001b[0m)                 │                             │                 │\n",
              "├──────────────────────────────────────┼─────────────────────────────┼─────────────────┤\n",
              "│ dropout (\u001b[38;5;33mDropout\u001b[0m)                    │ (\u001b[38;5;45mNone\u001b[0m, \u001b[38;5;34m200\u001b[0m, \u001b[38;5;34m64\u001b[0m)             │               \u001b[38;5;34m0\u001b[0m │\n",
              "├──────────────────────────────────────┼─────────────────────────────┼─────────────────┤\n",
              "│ bidirectional_1 (\u001b[38;5;33mBidirectional\u001b[0m)      │ (\u001b[38;5;45mNone\u001b[0m, \u001b[38;5;34m64\u001b[0m)                  │          \u001b[38;5;34m24,832\u001b[0m │\n",
              "├──────────────────────────────────────┼─────────────────────────────┼─────────────────┤\n",
              "│ batch_normalization_1                │ (\u001b[38;5;45mNone\u001b[0m, \u001b[38;5;34m64\u001b[0m)                  │             \u001b[38;5;34m256\u001b[0m │\n",
              "│ (\u001b[38;5;33mBatchNormalization\u001b[0m)                 │                             │                 │\n",
              "├──────────────────────────────────────┼─────────────────────────────┼─────────────────┤\n",
              "│ dropout_1 (\u001b[38;5;33mDropout\u001b[0m)                  │ (\u001b[38;5;45mNone\u001b[0m, \u001b[38;5;34m64\u001b[0m)                  │               \u001b[38;5;34m0\u001b[0m │\n",
              "├──────────────────────────────────────┼─────────────────────────────┼─────────────────┤\n",
              "│ dense (\u001b[38;5;33mDense\u001b[0m)                        │ (\u001b[38;5;45mNone\u001b[0m, \u001b[38;5;34m64\u001b[0m)                  │           \u001b[38;5;34m4,160\u001b[0m │\n",
              "├──────────────────────────────────────┼─────────────────────────────┼─────────────────┤\n",
              "│ batch_normalization_2                │ (\u001b[38;5;45mNone\u001b[0m, \u001b[38;5;34m64\u001b[0m)                  │             \u001b[38;5;34m256\u001b[0m │\n",
              "│ (\u001b[38;5;33mBatchNormalization\u001b[0m)                 │                             │                 │\n",
              "├──────────────────────────────────────┼─────────────────────────────┼─────────────────┤\n",
              "│ dropout_2 (\u001b[38;5;33mDropout\u001b[0m)                  │ (\u001b[38;5;45mNone\u001b[0m, \u001b[38;5;34m64\u001b[0m)                  │               \u001b[38;5;34m0\u001b[0m │\n",
              "├──────────────────────────────────────┼─────────────────────────────┼─────────────────┤\n",
              "│ dense_1 (\u001b[38;5;33mDense\u001b[0m)                      │ (\u001b[38;5;45mNone\u001b[0m, \u001b[38;5;34m32\u001b[0m)                  │           \u001b[38;5;34m2,080\u001b[0m │\n",
              "├──────────────────────────────────────┼─────────────────────────────┼─────────────────┤\n",
              "│ batch_normalization_3                │ (\u001b[38;5;45mNone\u001b[0m, \u001b[38;5;34m32\u001b[0m)                  │             \u001b[38;5;34m128\u001b[0m │\n",
              "│ (\u001b[38;5;33mBatchNormalization\u001b[0m)                 │                             │                 │\n",
              "├──────────────────────────────────────┼─────────────────────────────┼─────────────────┤\n",
              "│ dense_2 (\u001b[38;5;33mDense\u001b[0m)                      │ (\u001b[38;5;45mNone\u001b[0m, \u001b[38;5;34m1\u001b[0m)                   │              \u001b[38;5;34m33\u001b[0m │\n",
              "└──────────────────────────────────────┴─────────────────────────────┴─────────────────┘\n"
            ],
            "text/html": [
              "<pre style=\"white-space:pre;overflow-x:auto;line-height:normal;font-family:Menlo,'DejaVu Sans Mono',consolas,'Courier New',monospace\">┏━━━━━━━━━━━━━━━━━━━━━━━━━━━━━━━━━━━━━━┳━━━━━━━━━━━━━━━━━━━━━━━━━━━━━┳━━━━━━━━━━━━━━━━━┓\n",
              "┃<span style=\"font-weight: bold\"> Layer (type)                         </span>┃<span style=\"font-weight: bold\"> Output Shape                </span>┃<span style=\"font-weight: bold\">         Param # </span>┃\n",
              "┡━━━━━━━━━━━━━━━━━━━━━━━━━━━━━━━━━━━━━━╇━━━━━━━━━━━━━━━━━━━━━━━━━━━━━╇━━━━━━━━━━━━━━━━━┩\n",
              "│ embedding (<span style=\"color: #0087ff; text-decoration-color: #0087ff\">Embedding</span>)                │ (<span style=\"color: #00d7ff; text-decoration-color: #00d7ff\">None</span>, <span style=\"color: #00af00; text-decoration-color: #00af00\">200</span>, <span style=\"color: #00af00; text-decoration-color: #00af00\">128</span>)            │       <span style=\"color: #00af00; text-decoration-color: #00af00\">1,280,000</span> │\n",
              "├──────────────────────────────────────┼─────────────────────────────┼─────────────────┤\n",
              "│ bidirectional (<span style=\"color: #0087ff; text-decoration-color: #0087ff\">Bidirectional</span>)        │ (<span style=\"color: #00d7ff; text-decoration-color: #00d7ff\">None</span>, <span style=\"color: #00af00; text-decoration-color: #00af00\">200</span>, <span style=\"color: #00af00; text-decoration-color: #00af00\">64</span>)             │          <span style=\"color: #00af00; text-decoration-color: #00af00\">41,216</span> │\n",
              "├──────────────────────────────────────┼─────────────────────────────┼─────────────────┤\n",
              "│ batch_normalization                  │ (<span style=\"color: #00d7ff; text-decoration-color: #00d7ff\">None</span>, <span style=\"color: #00af00; text-decoration-color: #00af00\">200</span>, <span style=\"color: #00af00; text-decoration-color: #00af00\">64</span>)             │             <span style=\"color: #00af00; text-decoration-color: #00af00\">256</span> │\n",
              "│ (<span style=\"color: #0087ff; text-decoration-color: #0087ff\">BatchNormalization</span>)                 │                             │                 │\n",
              "├──────────────────────────────────────┼─────────────────────────────┼─────────────────┤\n",
              "│ dropout (<span style=\"color: #0087ff; text-decoration-color: #0087ff\">Dropout</span>)                    │ (<span style=\"color: #00d7ff; text-decoration-color: #00d7ff\">None</span>, <span style=\"color: #00af00; text-decoration-color: #00af00\">200</span>, <span style=\"color: #00af00; text-decoration-color: #00af00\">64</span>)             │               <span style=\"color: #00af00; text-decoration-color: #00af00\">0</span> │\n",
              "├──────────────────────────────────────┼─────────────────────────────┼─────────────────┤\n",
              "│ bidirectional_1 (<span style=\"color: #0087ff; text-decoration-color: #0087ff\">Bidirectional</span>)      │ (<span style=\"color: #00d7ff; text-decoration-color: #00d7ff\">None</span>, <span style=\"color: #00af00; text-decoration-color: #00af00\">64</span>)                  │          <span style=\"color: #00af00; text-decoration-color: #00af00\">24,832</span> │\n",
              "├──────────────────────────────────────┼─────────────────────────────┼─────────────────┤\n",
              "│ batch_normalization_1                │ (<span style=\"color: #00d7ff; text-decoration-color: #00d7ff\">None</span>, <span style=\"color: #00af00; text-decoration-color: #00af00\">64</span>)                  │             <span style=\"color: #00af00; text-decoration-color: #00af00\">256</span> │\n",
              "│ (<span style=\"color: #0087ff; text-decoration-color: #0087ff\">BatchNormalization</span>)                 │                             │                 │\n",
              "├──────────────────────────────────────┼─────────────────────────────┼─────────────────┤\n",
              "│ dropout_1 (<span style=\"color: #0087ff; text-decoration-color: #0087ff\">Dropout</span>)                  │ (<span style=\"color: #00d7ff; text-decoration-color: #00d7ff\">None</span>, <span style=\"color: #00af00; text-decoration-color: #00af00\">64</span>)                  │               <span style=\"color: #00af00; text-decoration-color: #00af00\">0</span> │\n",
              "├──────────────────────────────────────┼─────────────────────────────┼─────────────────┤\n",
              "│ dense (<span style=\"color: #0087ff; text-decoration-color: #0087ff\">Dense</span>)                        │ (<span style=\"color: #00d7ff; text-decoration-color: #00d7ff\">None</span>, <span style=\"color: #00af00; text-decoration-color: #00af00\">64</span>)                  │           <span style=\"color: #00af00; text-decoration-color: #00af00\">4,160</span> │\n",
              "├──────────────────────────────────────┼─────────────────────────────┼─────────────────┤\n",
              "│ batch_normalization_2                │ (<span style=\"color: #00d7ff; text-decoration-color: #00d7ff\">None</span>, <span style=\"color: #00af00; text-decoration-color: #00af00\">64</span>)                  │             <span style=\"color: #00af00; text-decoration-color: #00af00\">256</span> │\n",
              "│ (<span style=\"color: #0087ff; text-decoration-color: #0087ff\">BatchNormalization</span>)                 │                             │                 │\n",
              "├──────────────────────────────────────┼─────────────────────────────┼─────────────────┤\n",
              "│ dropout_2 (<span style=\"color: #0087ff; text-decoration-color: #0087ff\">Dropout</span>)                  │ (<span style=\"color: #00d7ff; text-decoration-color: #00d7ff\">None</span>, <span style=\"color: #00af00; text-decoration-color: #00af00\">64</span>)                  │               <span style=\"color: #00af00; text-decoration-color: #00af00\">0</span> │\n",
              "├──────────────────────────────────────┼─────────────────────────────┼─────────────────┤\n",
              "│ dense_1 (<span style=\"color: #0087ff; text-decoration-color: #0087ff\">Dense</span>)                      │ (<span style=\"color: #00d7ff; text-decoration-color: #00d7ff\">None</span>, <span style=\"color: #00af00; text-decoration-color: #00af00\">32</span>)                  │           <span style=\"color: #00af00; text-decoration-color: #00af00\">2,080</span> │\n",
              "├──────────────────────────────────────┼─────────────────────────────┼─────────────────┤\n",
              "│ batch_normalization_3                │ (<span style=\"color: #00d7ff; text-decoration-color: #00d7ff\">None</span>, <span style=\"color: #00af00; text-decoration-color: #00af00\">32</span>)                  │             <span style=\"color: #00af00; text-decoration-color: #00af00\">128</span> │\n",
              "│ (<span style=\"color: #0087ff; text-decoration-color: #0087ff\">BatchNormalization</span>)                 │                             │                 │\n",
              "├──────────────────────────────────────┼─────────────────────────────┼─────────────────┤\n",
              "│ dense_2 (<span style=\"color: #0087ff; text-decoration-color: #0087ff\">Dense</span>)                      │ (<span style=\"color: #00d7ff; text-decoration-color: #00d7ff\">None</span>, <span style=\"color: #00af00; text-decoration-color: #00af00\">1</span>)                   │              <span style=\"color: #00af00; text-decoration-color: #00af00\">33</span> │\n",
              "└──────────────────────────────────────┴─────────────────────────────┴─────────────────┘\n",
              "</pre>\n"
            ]
          },
          "metadata": {}
        },
        {
          "output_type": "display_data",
          "data": {
            "text/plain": [
              "\u001b[1m Total params: \u001b[0m\u001b[38;5;34m1,353,217\u001b[0m (5.16 MB)\n"
            ],
            "text/html": [
              "<pre style=\"white-space:pre;overflow-x:auto;line-height:normal;font-family:Menlo,'DejaVu Sans Mono',consolas,'Courier New',monospace\"><span style=\"font-weight: bold\"> Total params: </span><span style=\"color: #00af00; text-decoration-color: #00af00\">1,353,217</span> (5.16 MB)\n",
              "</pre>\n"
            ]
          },
          "metadata": {}
        },
        {
          "output_type": "display_data",
          "data": {
            "text/plain": [
              "\u001b[1m Trainable params: \u001b[0m\u001b[38;5;34m1,352,769\u001b[0m (5.16 MB)\n"
            ],
            "text/html": [
              "<pre style=\"white-space:pre;overflow-x:auto;line-height:normal;font-family:Menlo,'DejaVu Sans Mono',consolas,'Courier New',monospace\"><span style=\"font-weight: bold\"> Trainable params: </span><span style=\"color: #00af00; text-decoration-color: #00af00\">1,352,769</span> (5.16 MB)\n",
              "</pre>\n"
            ]
          },
          "metadata": {}
        },
        {
          "output_type": "display_data",
          "data": {
            "text/plain": [
              "\u001b[1m Non-trainable params: \u001b[0m\u001b[38;5;34m448\u001b[0m (1.75 KB)\n"
            ],
            "text/html": [
              "<pre style=\"white-space:pre;overflow-x:auto;line-height:normal;font-family:Menlo,'DejaVu Sans Mono',consolas,'Courier New',monospace\"><span style=\"font-weight: bold\"> Non-trainable params: </span><span style=\"color: #00af00; text-decoration-color: #00af00\">448</span> (1.75 KB)\n",
              "</pre>\n"
            ]
          },
          "metadata": {}
        }
      ]
    },
    {
      "cell_type": "markdown",
      "source": [
        "trainning"
      ],
      "metadata": {
        "id": "7NqoZPGLgSTu"
      }
    },
    {
      "cell_type": "code",
      "source": [
        "# Learning rate scheduler: reduces learning rate when the validation loss plateaus\n",
        "reduce_lr = ReduceLROnPlateau(monitor='val_loss', factor=0.5, patience=4, min_lr=0.00001, verbose=1)\n",
        "\n",
        "# Early stopping: stops training when no improvement in validation loss for 6 epochs\n",
        "early_stop = EarlyStopping(monitor='val_loss', patience=5, restore_best_weights=True)\n",
        "\n",
        "# Model checkpoint: saves the best model weights during training, using the new .keras format\n",
        "checkpoint = ModelCheckpoint(filepath='model_weights_best.keras', save_best_only=True)\n",
        "\n",
        "\n",
        "# Train the model with the improved architecture\n",
        "history = model.fit(x_train_padded, y_train,\n",
        "                    epochs=20,\n",
        "                    batch_size=32,\n",
        "                    validation_split=0.1,\n",
        "                    callbacks=[checkpoint, early_stop, reduce_lr])"
      ],
      "metadata": {
        "colab": {
          "base_uri": "https://localhost:8080/"
        },
        "id": "Uad1lN1bgRMB",
        "outputId": "a1961538-11d7-4a7e-d0f8-41576f2762c3"
      },
      "execution_count": 10,
      "outputs": [
        {
          "output_type": "stream",
          "name": "stdout",
          "text": [
            "Epoch 1/20\n",
            "\u001b[1m11490/11490\u001b[0m \u001b[32m━━━━━━━━━━━━━━━━━━━━\u001b[0m\u001b[37m\u001b[0m \u001b[1m405s\u001b[0m 34ms/step - accuracy: 0.9055 - loss: 0.3853 - val_accuracy: 0.9609 - val_loss: 0.1394 - learning_rate: 0.0010\n",
            "Epoch 2/20\n",
            "\u001b[1m11490/11490\u001b[0m \u001b[32m━━━━━━━━━━━━━━━━━━━━\u001b[0m\u001b[37m\u001b[0m \u001b[1m436s\u001b[0m 34ms/step - accuracy: 0.9767 - loss: 0.0919 - val_accuracy: 0.9701 - val_loss: 0.1181 - learning_rate: 0.0010\n",
            "Epoch 3/20\n",
            "\u001b[1m11490/11490\u001b[0m \u001b[32m━━━━━━━━━━━━━━━━━━━━\u001b[0m\u001b[37m\u001b[0m \u001b[1m444s\u001b[0m 34ms/step - accuracy: 0.9890 - loss: 0.0539 - val_accuracy: 0.9794 - val_loss: 0.0974 - learning_rate: 0.0010\n",
            "Epoch 4/20\n",
            "\u001b[1m11490/11490\u001b[0m \u001b[32m━━━━━━━━━━━━━━━━━━━━\u001b[0m\u001b[37m\u001b[0m \u001b[1m446s\u001b[0m 35ms/step - accuracy: 0.9942 - loss: 0.0343 - val_accuracy: 0.9813 - val_loss: 0.0903 - learning_rate: 0.0010\n",
            "Epoch 5/20\n",
            "\u001b[1m11490/11490\u001b[0m \u001b[32m━━━━━━━━━━━━━━━━━━━━\u001b[0m\u001b[37m\u001b[0m \u001b[1m441s\u001b[0m 35ms/step - accuracy: 0.9959 - loss: 0.0256 - val_accuracy: 0.9821 - val_loss: 0.1028 - learning_rate: 0.0010\n",
            "Epoch 6/20\n",
            "\u001b[1m11490/11490\u001b[0m \u001b[32m━━━━━━━━━━━━━━━━━━━━\u001b[0m\u001b[37m\u001b[0m \u001b[1m439s\u001b[0m 34ms/step - accuracy: 0.9971 - loss: 0.0205 - val_accuracy: 0.9796 - val_loss: 0.1116 - learning_rate: 0.0010\n",
            "Epoch 7/20\n",
            "\u001b[1m11490/11490\u001b[0m \u001b[32m━━━━━━━━━━━━━━━━━━━━\u001b[0m\u001b[37m\u001b[0m \u001b[1m442s\u001b[0m 34ms/step - accuracy: 0.9974 - loss: 0.0187 - val_accuracy: 0.9763 - val_loss: 0.1441 - learning_rate: 0.0010\n",
            "Epoch 8/20\n",
            "\u001b[1m11490/11490\u001b[0m \u001b[32m━━━━━━━━━━━━━━━━━━━━\u001b[0m\u001b[37m\u001b[0m \u001b[1m0s\u001b[0m 33ms/step - accuracy: 0.9978 - loss: 0.0167\n",
            "Epoch 8: ReduceLROnPlateau reducing learning rate to 0.0005000000237487257.\n",
            "\u001b[1m11490/11490\u001b[0m \u001b[32m━━━━━━━━━━━━━━━━━━━━\u001b[0m\u001b[37m\u001b[0m \u001b[1m395s\u001b[0m 34ms/step - accuracy: 0.9978 - loss: 0.0167 - val_accuracy: 0.9784 - val_loss: 0.1365 - learning_rate: 0.0010\n",
            "Epoch 9/20\n",
            "\u001b[1m11490/11490\u001b[0m \u001b[32m━━━━━━━━━━━━━━━━━━━━\u001b[0m\u001b[37m\u001b[0m \u001b[1m442s\u001b[0m 34ms/step - accuracy: 0.9987 - loss: 0.0104 - val_accuracy: 0.9852 - val_loss: 0.1054 - learning_rate: 5.0000e-04\n"
          ]
        }
      ]
    },
    {
      "cell_type": "markdown",
      "source": [
        "save the model & evalution"
      ],
      "metadata": {
        "id": "bU5oXV14hL0c"
      }
    },
    {
      "cell_type": "code",
      "source": [
        "from sklearn.metrics import classification_report\n",
        "\n",
        "# Save the entire model after training is complete for use in the Streamlit app\n",
        "model.save('model4.h5')\n",
        "\n",
        "# Evaluate the model on the test data\n",
        "loss, accuracy = model.evaluate(x_test_padded, y_test)\n",
        "print(f\"Test Loss: {loss}\")\n",
        "print(f\"Test Accuracy: {accuracy}\")\n",
        "\n",
        "# Predict and print classification report\n",
        "y_pred = model.predict(x_test_padded)\n",
        "y_pred_classes = (y_pred > 0.5).astype(\"int32\")\n",
        "print(classification_report(y_test, y_pred_classes, target_names=['Fake', 'Real']))"
      ],
      "metadata": {
        "id": "NCOB0YEIgXDr",
        "colab": {
          "base_uri": "https://localhost:8080/"
        },
        "outputId": "92e6f9a0-a8f6-48ad-82e2-edddae997c41"
      },
      "execution_count": 11,
      "outputs": [
        {
          "output_type": "stream",
          "name": "stderr",
          "text": [
            "WARNING:absl:You are saving your model as an HDF5 file via `model.save()` or `keras.saving.save_model(model)`. This file format is considered legacy. We recommend using instead the native Keras format, e.g. `model.save('my_model.keras')` or `keras.saving.save_model(model, 'my_model.keras')`. \n"
          ]
        },
        {
          "output_type": "stream",
          "name": "stdout",
          "text": [
            "\u001b[1m667/667\u001b[0m \u001b[32m━━━━━━━━━━━━━━━━━━━━\u001b[0m\u001b[37m\u001b[0m \u001b[1m8s\u001b[0m 12ms/step - accuracy: 0.4133 - loss: 4.0839\n",
            "Test Loss: 3.9157962799072266\n",
            "Test Accuracy: 0.44173938035964966\n",
            "\u001b[1m667/667\u001b[0m \u001b[32m━━━━━━━━━━━━━━━━━━━━\u001b[0m\u001b[37m\u001b[0m \u001b[1m9s\u001b[0m 13ms/step\n",
            "              precision    recall  f1-score   support\n",
            "\n",
            "        Fake       0.51      0.51      0.51     12145\n",
            "        Real       0.35      0.35      0.35      9173\n",
            "\n",
            "    accuracy                           0.44     21318\n",
            "   macro avg       0.43      0.43      0.43     21318\n",
            "weighted avg       0.44      0.44      0.44     21318\n",
            "\n"
          ]
        }
      ]
    },
    {
      "cell_type": "code",
      "source": [
        "from sklearn.metrics import confusion_matrix\n",
        "\n",
        "# Compute and plot the confusion matrix\n",
        "conf_matrix = confusion_matrix(y_test, y_pred_classes)\n",
        "\n",
        "plt.figure(figsize=(6, 6))\n",
        "sns.heatmap(conf_matrix, annot=True, fmt='d', cmap='Blues', xticklabels=['Fake', 'Real'], yticklabels=['Fake', 'Real'])\n",
        "plt.xlabel('Predicted')\n",
        "plt.ylabel('Actual')\n",
        "plt.title('Confusion Matrix')\n",
        "plt.show()"
      ],
      "metadata": {
        "id": "wFuOFLaxgZSU",
        "colab": {
          "base_uri": "https://localhost:8080/",
          "height": 564
        },
        "outputId": "b070c1da-dae0-4eb0-a5e4-31db27e9748a"
      },
      "execution_count": 12,
      "outputs": [
        {
          "output_type": "display_data",
          "data": {
            "text/plain": [
              "<Figure size 600x600 with 2 Axes>"
            ],
            "image/png": "[encoded data removed]"
          },
          "metadata": {}
        }
      ]
    },
    {
      "cell_type": "code",
      "source": [
        "# Plot training & validation accuracy and loss\n",
        "plt.figure(figsize=(12, 4))\n",
        "\n",
        "plt.subplot(1, 2, 1)\n",
        "plt.plot(history.history['accuracy'])\n",
        "plt.plot(history.history['val_accuracy'])\n",
        "plt.title('Model Accuracy')\n",
        "plt.ylabel('Accuracy')\n",
        "plt.xlabel('Epoch')\n",
        "plt.legend(['Train', 'Validation'], loc='upper left')\n",
        "\n",
        "# Plot training & validation loss values\n",
        "plt.subplot(1, 2, 2)\n",
        "plt.plot(history.history['loss'])\n",
        "plt.plot(history.history['val_loss'])\n",
        "plt.title('Model Loss')\n",
        "plt.ylabel('Loss')"
      ],
      "metadata": {
        "id": "TzyyXbL8gazu",
        "colab": {
          "base_uri": "https://localhost:8080/",
          "height": 427
        },
        "outputId": "f8a43ab5-efeb-4ec6-ce91-349a5caa98b1"
      },
      "execution_count": 13,
      "outputs": [
        {
          "output_type": "execute_result",
          "data": {
            "text/plain": [
              "Text(0, 0.5, 'Loss')"
            ]
          },
          "metadata": {},
          "execution_count": 13
        },
        {
          "output_type": "display_data",
          "data": {
            "text/plain": [
              "<Figure size 1200x400 with 2 Axes>"
            ],
            "image/png": "[encoded data removed]"
          },
          "metadata": {}
        }
      ]
    },
    {
      "cell_type": "code",
      "source": [],
      "metadata": {
        "id": "6P4i8426nkiE"
      },
      "execution_count": 13,
      "outputs": []
    }
  ]
}